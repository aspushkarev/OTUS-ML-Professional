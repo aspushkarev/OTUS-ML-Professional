{
  "nbformat": 4,
  "nbformat_minor": 0,
  "metadata": {
    "colab": {
      "provenance": []
    },
    "kernelspec": {
      "name": "python3",
      "display_name": "Python 3"
    },
    "language_info": {
      "name": "python"
    }
  },
  "cells": [
    {
      "cell_type": "markdown",
      "source": [
        "# **Задача регрессии**\n",
        "**Forest Fires**\n",
        "\n",
        "**Abstract: This is a difficult regression task, where the aim is to predict the burned area of forest fires, in the northeast region of Portugal, by using meteorological and other data**\n",
        "\n",
        "https://archive.ics.uci.edu/ml/datasets/Forest+Fires"
      ],
      "metadata": {
        "id": "hmTm-ejlczL3"
      }
    },
    {
      "cell_type": "markdown",
      "source": [
        "**Attribute Information:**\n",
        "\n",
        "1. X - x-axis spatial coordinate within the Montesinho park map: 1 to 9 \n",
        "2. Y - y-axis spatial coordinate within the Montesinho park map: 2 to 9 \n",
        "3. month - month of the year: 'jan' to 'dec' \n",
        "4. day - day of the week: 'mon' to 'sun' \n",
        "5. FFMC - FFMC index from the FWI system: 18.7 to 96.20 \n",
        "6. DMC - DMC index from the FWI system: 1.1 to 291.3 \n",
        "7. DC - DC index from the FWI system: 7.9 to 860.6 \n",
        "8. ISI - ISI index from the FWI system: 0.0 to 56.10 \n",
        "9. temp - temperature in Celsius degrees: 2.2 to 33.30 \n",
        "10. RH - relative humidity in %: 15.0 to 100 \n",
        "11. wind - wind speed in km/h: 0.40 to 9.40 \n",
        "12. rain - outside rain in mm/m2 : 0.0 to 6.4 \n",
        "13. area - the burned area of the forest (in ha): 0.00 to 1090.84 \n",
        "(this output variable is very skewed towards 0.0, thus it may make \n",
        "sense to model with the logarithm transform)"
      ],
      "metadata": {
        "id": "_t8UjG2whx6q"
      }
    },
    {
      "cell_type": "code",
      "source": [
        "# ! pip install lightgbm\n",
        "# ! pip install --upgrade catboost==0.25"
      ],
      "metadata": {
        "id": "L9rbH2OebRyC"
      },
      "execution_count": 356,
      "outputs": []
    },
    {
      "cell_type": "code",
      "execution_count": 357,
      "metadata": {
        "id": "jK2XqppCcu3n"
      },
      "outputs": [],
      "source": [
        "import pandas as pd\n",
        "import numpy as np\n",
        "import matplotlib.pyplot as plt\n",
        "import seaborn as sns\n",
        "\n",
        "from sklearn.preprocessing import LabelEncoder\n",
        "from sklearn.ensemble import GradientBoostingRegressor\n",
        "from xgboost import XGBRegressor\n",
        "from lightgbm import LGBMRegressor\n",
        "from catboost import CatBoostRegressor\n",
        "\n",
        "from sklearn.model_selection import train_test_split, GridSearchCV\n",
        "\n",
        "from sklearn.metrics import mean_squared_error\n",
        "\n",
        "import warnings\n",
        "warnings.filterwarnings(\"ignore\")"
      ]
    },
    {
      "cell_type": "code",
      "source": [
        "data = pd.read_table('forestfires.csv', sep=',')\n",
        "data.head()"
      ],
      "metadata": {
        "colab": {
          "base_uri": "https://localhost:8080/",
          "height": 204
        },
        "id": "ereZEza5X_a8",
        "outputId": "87bdc9ce-bd05-4288-d4ee-91809cea37ef"
      },
      "execution_count": 358,
      "outputs": [
        {
          "output_type": "execute_result",
          "data": {
            "text/plain": [
              "   X  Y month  day  FFMC   DMC     DC  ISI  temp  RH  wind  rain  area\n",
              "0  7  5   mar  fri  86.2  26.2   94.3  5.1   8.2  51   6.7   0.0   0.0\n",
              "1  7  4   oct  tue  90.6  35.4  669.1  6.7  18.0  33   0.9   0.0   0.0\n",
              "2  7  4   oct  sat  90.6  43.7  686.9  6.7  14.6  33   1.3   0.0   0.0\n",
              "3  8  6   mar  fri  91.7  33.3   77.5  9.0   8.3  97   4.0   0.2   0.0\n",
              "4  8  6   mar  sun  89.3  51.3  102.2  9.6  11.4  99   1.8   0.0   0.0"
            ],
            "text/html": [
              "\n",
              "  <div id=\"df-dbc1868c-6556-4112-bb1b-10741f792504\">\n",
              "    <div class=\"colab-df-container\">\n",
              "      <div>\n",
              "<style scoped>\n",
              "    .dataframe tbody tr th:only-of-type {\n",
              "        vertical-align: middle;\n",
              "    }\n",
              "\n",
              "    .dataframe tbody tr th {\n",
              "        vertical-align: top;\n",
              "    }\n",
              "\n",
              "    .dataframe thead th {\n",
              "        text-align: right;\n",
              "    }\n",
              "</style>\n",
              "<table border=\"1\" class=\"dataframe\">\n",
              "  <thead>\n",
              "    <tr style=\"text-align: right;\">\n",
              "      <th></th>\n",
              "      <th>X</th>\n",
              "      <th>Y</th>\n",
              "      <th>month</th>\n",
              "      <th>day</th>\n",
              "      <th>FFMC</th>\n",
              "      <th>DMC</th>\n",
              "      <th>DC</th>\n",
              "      <th>ISI</th>\n",
              "      <th>temp</th>\n",
              "      <th>RH</th>\n",
              "      <th>wind</th>\n",
              "      <th>rain</th>\n",
              "      <th>area</th>\n",
              "    </tr>\n",
              "  </thead>\n",
              "  <tbody>\n",
              "    <tr>\n",
              "      <th>0</th>\n",
              "      <td>7</td>\n",
              "      <td>5</td>\n",
              "      <td>mar</td>\n",
              "      <td>fri</td>\n",
              "      <td>86.2</td>\n",
              "      <td>26.2</td>\n",
              "      <td>94.3</td>\n",
              "      <td>5.1</td>\n",
              "      <td>8.2</td>\n",
              "      <td>51</td>\n",
              "      <td>6.7</td>\n",
              "      <td>0.0</td>\n",
              "      <td>0.0</td>\n",
              "    </tr>\n",
              "    <tr>\n",
              "      <th>1</th>\n",
              "      <td>7</td>\n",
              "      <td>4</td>\n",
              "      <td>oct</td>\n",
              "      <td>tue</td>\n",
              "      <td>90.6</td>\n",
              "      <td>35.4</td>\n",
              "      <td>669.1</td>\n",
              "      <td>6.7</td>\n",
              "      <td>18.0</td>\n",
              "      <td>33</td>\n",
              "      <td>0.9</td>\n",
              "      <td>0.0</td>\n",
              "      <td>0.0</td>\n",
              "    </tr>\n",
              "    <tr>\n",
              "      <th>2</th>\n",
              "      <td>7</td>\n",
              "      <td>4</td>\n",
              "      <td>oct</td>\n",
              "      <td>sat</td>\n",
              "      <td>90.6</td>\n",
              "      <td>43.7</td>\n",
              "      <td>686.9</td>\n",
              "      <td>6.7</td>\n",
              "      <td>14.6</td>\n",
              "      <td>33</td>\n",
              "      <td>1.3</td>\n",
              "      <td>0.0</td>\n",
              "      <td>0.0</td>\n",
              "    </tr>\n",
              "    <tr>\n",
              "      <th>3</th>\n",
              "      <td>8</td>\n",
              "      <td>6</td>\n",
              "      <td>mar</td>\n",
              "      <td>fri</td>\n",
              "      <td>91.7</td>\n",
              "      <td>33.3</td>\n",
              "      <td>77.5</td>\n",
              "      <td>9.0</td>\n",
              "      <td>8.3</td>\n",
              "      <td>97</td>\n",
              "      <td>4.0</td>\n",
              "      <td>0.2</td>\n",
              "      <td>0.0</td>\n",
              "    </tr>\n",
              "    <tr>\n",
              "      <th>4</th>\n",
              "      <td>8</td>\n",
              "      <td>6</td>\n",
              "      <td>mar</td>\n",
              "      <td>sun</td>\n",
              "      <td>89.3</td>\n",
              "      <td>51.3</td>\n",
              "      <td>102.2</td>\n",
              "      <td>9.6</td>\n",
              "      <td>11.4</td>\n",
              "      <td>99</td>\n",
              "      <td>1.8</td>\n",
              "      <td>0.0</td>\n",
              "      <td>0.0</td>\n",
              "    </tr>\n",
              "  </tbody>\n",
              "</table>\n",
              "</div>\n",
              "      <button class=\"colab-df-convert\" onclick=\"convertToInteractive('df-dbc1868c-6556-4112-bb1b-10741f792504')\"\n",
              "              title=\"Convert this dataframe to an interactive table.\"\n",
              "              style=\"display:none;\">\n",
              "        \n",
              "  <svg xmlns=\"http://www.w3.org/2000/svg\" height=\"24px\"viewBox=\"0 0 24 24\"\n",
              "       width=\"24px\">\n",
              "    <path d=\"M0 0h24v24H0V0z\" fill=\"none\"/>\n",
              "    <path d=\"M18.56 5.44l.94 2.06.94-2.06 2.06-.94-2.06-.94-.94-2.06-.94 2.06-2.06.94zm-11 1L8.5 8.5l.94-2.06 2.06-.94-2.06-.94L8.5 2.5l-.94 2.06-2.06.94zm10 10l.94 2.06.94-2.06 2.06-.94-2.06-.94-.94-2.06-.94 2.06-2.06.94z\"/><path d=\"M17.41 7.96l-1.37-1.37c-.4-.4-.92-.59-1.43-.59-.52 0-1.04.2-1.43.59L10.3 9.45l-7.72 7.72c-.78.78-.78 2.05 0 2.83L4 21.41c.39.39.9.59 1.41.59.51 0 1.02-.2 1.41-.59l7.78-7.78 2.81-2.81c.8-.78.8-2.07 0-2.86zM5.41 20L4 18.59l7.72-7.72 1.47 1.35L5.41 20z\"/>\n",
              "  </svg>\n",
              "      </button>\n",
              "      \n",
              "  <style>\n",
              "    .colab-df-container {\n",
              "      display:flex;\n",
              "      flex-wrap:wrap;\n",
              "      gap: 12px;\n",
              "    }\n",
              "\n",
              "    .colab-df-convert {\n",
              "      background-color: #E8F0FE;\n",
              "      border: none;\n",
              "      border-radius: 50%;\n",
              "      cursor: pointer;\n",
              "      display: none;\n",
              "      fill: #1967D2;\n",
              "      height: 32px;\n",
              "      padding: 0 0 0 0;\n",
              "      width: 32px;\n",
              "    }\n",
              "\n",
              "    .colab-df-convert:hover {\n",
              "      background-color: #E2EBFA;\n",
              "      box-shadow: 0px 1px 2px rgba(60, 64, 67, 0.3), 0px 1px 3px 1px rgba(60, 64, 67, 0.15);\n",
              "      fill: #174EA6;\n",
              "    }\n",
              "\n",
              "    [theme=dark] .colab-df-convert {\n",
              "      background-color: #3B4455;\n",
              "      fill: #D2E3FC;\n",
              "    }\n",
              "\n",
              "    [theme=dark] .colab-df-convert:hover {\n",
              "      background-color: #434B5C;\n",
              "      box-shadow: 0px 1px 3px 1px rgba(0, 0, 0, 0.15);\n",
              "      filter: drop-shadow(0px 1px 2px rgba(0, 0, 0, 0.3));\n",
              "      fill: #FFFFFF;\n",
              "    }\n",
              "  </style>\n",
              "\n",
              "      <script>\n",
              "        const buttonEl =\n",
              "          document.querySelector('#df-dbc1868c-6556-4112-bb1b-10741f792504 button.colab-df-convert');\n",
              "        buttonEl.style.display =\n",
              "          google.colab.kernel.accessAllowed ? 'block' : 'none';\n",
              "\n",
              "        async function convertToInteractive(key) {\n",
              "          const element = document.querySelector('#df-dbc1868c-6556-4112-bb1b-10741f792504');\n",
              "          const dataTable =\n",
              "            await google.colab.kernel.invokeFunction('convertToInteractive',\n",
              "                                                     [key], {});\n",
              "          if (!dataTable) return;\n",
              "\n",
              "          const docLinkHtml = 'Like what you see? Visit the ' +\n",
              "            '<a target=\"_blank\" href=https://colab.research.google.com/notebooks/data_table.ipynb>data table notebook</a>'\n",
              "            + ' to learn more about interactive tables.';\n",
              "          element.innerHTML = '';\n",
              "          dataTable['output_type'] = 'display_data';\n",
              "          await google.colab.output.renderOutput(dataTable, element);\n",
              "          const docLink = document.createElement('div');\n",
              "          docLink.innerHTML = docLinkHtml;\n",
              "          element.appendChild(docLink);\n",
              "        }\n",
              "      </script>\n",
              "    </div>\n",
              "  </div>\n",
              "  "
            ]
          },
          "metadata": {},
          "execution_count": 358
        }
      ]
    },
    {
      "cell_type": "markdown",
      "source": [
        "# EDA & Preprocessing"
      ],
      "metadata": {
        "id": "fNp8ANDUhPcA"
      }
    },
    {
      "cell_type": "code",
      "source": [
        "data.info()"
      ],
      "metadata": {
        "colab": {
          "base_uri": "https://localhost:8080/"
        },
        "id": "dfn9hCiPZA_D",
        "outputId": "930e92e0-2828-4662-e3aa-16a428507cfb"
      },
      "execution_count": 359,
      "outputs": [
        {
          "output_type": "stream",
          "name": "stdout",
          "text": [
            "<class 'pandas.core.frame.DataFrame'>\n",
            "RangeIndex: 517 entries, 0 to 516\n",
            "Data columns (total 13 columns):\n",
            " #   Column  Non-Null Count  Dtype  \n",
            "---  ------  --------------  -----  \n",
            " 0   X       517 non-null    int64  \n",
            " 1   Y       517 non-null    int64  \n",
            " 2   month   517 non-null    object \n",
            " 3   day     517 non-null    object \n",
            " 4   FFMC    517 non-null    float64\n",
            " 5   DMC     517 non-null    float64\n",
            " 6   DC      517 non-null    float64\n",
            " 7   ISI     517 non-null    float64\n",
            " 8   temp    517 non-null    float64\n",
            " 9   RH      517 non-null    int64  \n",
            " 10  wind    517 non-null    float64\n",
            " 11  rain    517 non-null    float64\n",
            " 12  area    517 non-null    float64\n",
            "dtypes: float64(8), int64(3), object(2)\n",
            "memory usage: 52.6+ KB\n"
          ]
        }
      ]
    },
    {
      "cell_type": "code",
      "source": [
        "data.describe()"
      ],
      "metadata": {
        "colab": {
          "base_uri": "https://localhost:8080/",
          "height": 297
        },
        "id": "uEkFrmxChG56",
        "outputId": "b29ce747-ae2c-4d92-db44-075909fb5b36"
      },
      "execution_count": 360,
      "outputs": [
        {
          "output_type": "execute_result",
          "data": {
            "text/plain": [
              "                X           Y        FFMC         DMC          DC         ISI  \\\n",
              "count  517.000000  517.000000  517.000000  517.000000  517.000000  517.000000   \n",
              "mean     4.669246    4.299807   90.644681  110.872340  547.940039    9.021663   \n",
              "std      2.313778    1.229900    5.520111   64.046482  248.066192    4.559477   \n",
              "min      1.000000    2.000000   18.700000    1.100000    7.900000    0.000000   \n",
              "25%      3.000000    4.000000   90.200000   68.600000  437.700000    6.500000   \n",
              "50%      4.000000    4.000000   91.600000  108.300000  664.200000    8.400000   \n",
              "75%      7.000000    5.000000   92.900000  142.400000  713.900000   10.800000   \n",
              "max      9.000000    9.000000   96.200000  291.300000  860.600000   56.100000   \n",
              "\n",
              "             temp          RH        wind        rain         area  \n",
              "count  517.000000  517.000000  517.000000  517.000000   517.000000  \n",
              "mean    18.889168   44.288201    4.017602    0.021663    12.847292  \n",
              "std      5.806625   16.317469    1.791653    0.295959    63.655818  \n",
              "min      2.200000   15.000000    0.400000    0.000000     0.000000  \n",
              "25%     15.500000   33.000000    2.700000    0.000000     0.000000  \n",
              "50%     19.300000   42.000000    4.000000    0.000000     0.520000  \n",
              "75%     22.800000   53.000000    4.900000    0.000000     6.570000  \n",
              "max     33.300000  100.000000    9.400000    6.400000  1090.840000  "
            ],
            "text/html": [
              "\n",
              "  <div id=\"df-ef957ce6-44c2-4614-9737-33f07dbb9be8\">\n",
              "    <div class=\"colab-df-container\">\n",
              "      <div>\n",
              "<style scoped>\n",
              "    .dataframe tbody tr th:only-of-type {\n",
              "        vertical-align: middle;\n",
              "    }\n",
              "\n",
              "    .dataframe tbody tr th {\n",
              "        vertical-align: top;\n",
              "    }\n",
              "\n",
              "    .dataframe thead th {\n",
              "        text-align: right;\n",
              "    }\n",
              "</style>\n",
              "<table border=\"1\" class=\"dataframe\">\n",
              "  <thead>\n",
              "    <tr style=\"text-align: right;\">\n",
              "      <th></th>\n",
              "      <th>X</th>\n",
              "      <th>Y</th>\n",
              "      <th>FFMC</th>\n",
              "      <th>DMC</th>\n",
              "      <th>DC</th>\n",
              "      <th>ISI</th>\n",
              "      <th>temp</th>\n",
              "      <th>RH</th>\n",
              "      <th>wind</th>\n",
              "      <th>rain</th>\n",
              "      <th>area</th>\n",
              "    </tr>\n",
              "  </thead>\n",
              "  <tbody>\n",
              "    <tr>\n",
              "      <th>count</th>\n",
              "      <td>517.000000</td>\n",
              "      <td>517.000000</td>\n",
              "      <td>517.000000</td>\n",
              "      <td>517.000000</td>\n",
              "      <td>517.000000</td>\n",
              "      <td>517.000000</td>\n",
              "      <td>517.000000</td>\n",
              "      <td>517.000000</td>\n",
              "      <td>517.000000</td>\n",
              "      <td>517.000000</td>\n",
              "      <td>517.000000</td>\n",
              "    </tr>\n",
              "    <tr>\n",
              "      <th>mean</th>\n",
              "      <td>4.669246</td>\n",
              "      <td>4.299807</td>\n",
              "      <td>90.644681</td>\n",
              "      <td>110.872340</td>\n",
              "      <td>547.940039</td>\n",
              "      <td>9.021663</td>\n",
              "      <td>18.889168</td>\n",
              "      <td>44.288201</td>\n",
              "      <td>4.017602</td>\n",
              "      <td>0.021663</td>\n",
              "      <td>12.847292</td>\n",
              "    </tr>\n",
              "    <tr>\n",
              "      <th>std</th>\n",
              "      <td>2.313778</td>\n",
              "      <td>1.229900</td>\n",
              "      <td>5.520111</td>\n",
              "      <td>64.046482</td>\n",
              "      <td>248.066192</td>\n",
              "      <td>4.559477</td>\n",
              "      <td>5.806625</td>\n",
              "      <td>16.317469</td>\n",
              "      <td>1.791653</td>\n",
              "      <td>0.295959</td>\n",
              "      <td>63.655818</td>\n",
              "    </tr>\n",
              "    <tr>\n",
              "      <th>min</th>\n",
              "      <td>1.000000</td>\n",
              "      <td>2.000000</td>\n",
              "      <td>18.700000</td>\n",
              "      <td>1.100000</td>\n",
              "      <td>7.900000</td>\n",
              "      <td>0.000000</td>\n",
              "      <td>2.200000</td>\n",
              "      <td>15.000000</td>\n",
              "      <td>0.400000</td>\n",
              "      <td>0.000000</td>\n",
              "      <td>0.000000</td>\n",
              "    </tr>\n",
              "    <tr>\n",
              "      <th>25%</th>\n",
              "      <td>3.000000</td>\n",
              "      <td>4.000000</td>\n",
              "      <td>90.200000</td>\n",
              "      <td>68.600000</td>\n",
              "      <td>437.700000</td>\n",
              "      <td>6.500000</td>\n",
              "      <td>15.500000</td>\n",
              "      <td>33.000000</td>\n",
              "      <td>2.700000</td>\n",
              "      <td>0.000000</td>\n",
              "      <td>0.000000</td>\n",
              "    </tr>\n",
              "    <tr>\n",
              "      <th>50%</th>\n",
              "      <td>4.000000</td>\n",
              "      <td>4.000000</td>\n",
              "      <td>91.600000</td>\n",
              "      <td>108.300000</td>\n",
              "      <td>664.200000</td>\n",
              "      <td>8.400000</td>\n",
              "      <td>19.300000</td>\n",
              "      <td>42.000000</td>\n",
              "      <td>4.000000</td>\n",
              "      <td>0.000000</td>\n",
              "      <td>0.520000</td>\n",
              "    </tr>\n",
              "    <tr>\n",
              "      <th>75%</th>\n",
              "      <td>7.000000</td>\n",
              "      <td>5.000000</td>\n",
              "      <td>92.900000</td>\n",
              "      <td>142.400000</td>\n",
              "      <td>713.900000</td>\n",
              "      <td>10.800000</td>\n",
              "      <td>22.800000</td>\n",
              "      <td>53.000000</td>\n",
              "      <td>4.900000</td>\n",
              "      <td>0.000000</td>\n",
              "      <td>6.570000</td>\n",
              "    </tr>\n",
              "    <tr>\n",
              "      <th>max</th>\n",
              "      <td>9.000000</td>\n",
              "      <td>9.000000</td>\n",
              "      <td>96.200000</td>\n",
              "      <td>291.300000</td>\n",
              "      <td>860.600000</td>\n",
              "      <td>56.100000</td>\n",
              "      <td>33.300000</td>\n",
              "      <td>100.000000</td>\n",
              "      <td>9.400000</td>\n",
              "      <td>6.400000</td>\n",
              "      <td>1090.840000</td>\n",
              "    </tr>\n",
              "  </tbody>\n",
              "</table>\n",
              "</div>\n",
              "      <button class=\"colab-df-convert\" onclick=\"convertToInteractive('df-ef957ce6-44c2-4614-9737-33f07dbb9be8')\"\n",
              "              title=\"Convert this dataframe to an interactive table.\"\n",
              "              style=\"display:none;\">\n",
              "        \n",
              "  <svg xmlns=\"http://www.w3.org/2000/svg\" height=\"24px\"viewBox=\"0 0 24 24\"\n",
              "       width=\"24px\">\n",
              "    <path d=\"M0 0h24v24H0V0z\" fill=\"none\"/>\n",
              "    <path d=\"M18.56 5.44l.94 2.06.94-2.06 2.06-.94-2.06-.94-.94-2.06-.94 2.06-2.06.94zm-11 1L8.5 8.5l.94-2.06 2.06-.94-2.06-.94L8.5 2.5l-.94 2.06-2.06.94zm10 10l.94 2.06.94-2.06 2.06-.94-2.06-.94-.94-2.06-.94 2.06-2.06.94z\"/><path d=\"M17.41 7.96l-1.37-1.37c-.4-.4-.92-.59-1.43-.59-.52 0-1.04.2-1.43.59L10.3 9.45l-7.72 7.72c-.78.78-.78 2.05 0 2.83L4 21.41c.39.39.9.59 1.41.59.51 0 1.02-.2 1.41-.59l7.78-7.78 2.81-2.81c.8-.78.8-2.07 0-2.86zM5.41 20L4 18.59l7.72-7.72 1.47 1.35L5.41 20z\"/>\n",
              "  </svg>\n",
              "      </button>\n",
              "      \n",
              "  <style>\n",
              "    .colab-df-container {\n",
              "      display:flex;\n",
              "      flex-wrap:wrap;\n",
              "      gap: 12px;\n",
              "    }\n",
              "\n",
              "    .colab-df-convert {\n",
              "      background-color: #E8F0FE;\n",
              "      border: none;\n",
              "      border-radius: 50%;\n",
              "      cursor: pointer;\n",
              "      display: none;\n",
              "      fill: #1967D2;\n",
              "      height: 32px;\n",
              "      padding: 0 0 0 0;\n",
              "      width: 32px;\n",
              "    }\n",
              "\n",
              "    .colab-df-convert:hover {\n",
              "      background-color: #E2EBFA;\n",
              "      box-shadow: 0px 1px 2px rgba(60, 64, 67, 0.3), 0px 1px 3px 1px rgba(60, 64, 67, 0.15);\n",
              "      fill: #174EA6;\n",
              "    }\n",
              "\n",
              "    [theme=dark] .colab-df-convert {\n",
              "      background-color: #3B4455;\n",
              "      fill: #D2E3FC;\n",
              "    }\n",
              "\n",
              "    [theme=dark] .colab-df-convert:hover {\n",
              "      background-color: #434B5C;\n",
              "      box-shadow: 0px 1px 3px 1px rgba(0, 0, 0, 0.15);\n",
              "      filter: drop-shadow(0px 1px 2px rgba(0, 0, 0, 0.3));\n",
              "      fill: #FFFFFF;\n",
              "    }\n",
              "  </style>\n",
              "\n",
              "      <script>\n",
              "        const buttonEl =\n",
              "          document.querySelector('#df-ef957ce6-44c2-4614-9737-33f07dbb9be8 button.colab-df-convert');\n",
              "        buttonEl.style.display =\n",
              "          google.colab.kernel.accessAllowed ? 'block' : 'none';\n",
              "\n",
              "        async function convertToInteractive(key) {\n",
              "          const element = document.querySelector('#df-ef957ce6-44c2-4614-9737-33f07dbb9be8');\n",
              "          const dataTable =\n",
              "            await google.colab.kernel.invokeFunction('convertToInteractive',\n",
              "                                                     [key], {});\n",
              "          if (!dataTable) return;\n",
              "\n",
              "          const docLinkHtml = 'Like what you see? Visit the ' +\n",
              "            '<a target=\"_blank\" href=https://colab.research.google.com/notebooks/data_table.ipynb>data table notebook</a>'\n",
              "            + ' to learn more about interactive tables.';\n",
              "          element.innerHTML = '';\n",
              "          dataTable['output_type'] = 'display_data';\n",
              "          await google.colab.output.renderOutput(dataTable, element);\n",
              "          const docLink = document.createElement('div');\n",
              "          docLink.innerHTML = docLinkHtml;\n",
              "          element.appendChild(docLink);\n",
              "        }\n",
              "      </script>\n",
              "    </div>\n",
              "  </div>\n",
              "  "
            ]
          },
          "metadata": {},
          "execution_count": 360
        }
      ]
    },
    {
      "cell_type": "code",
      "source": [
        "data.month.unique()"
      ],
      "metadata": {
        "colab": {
          "base_uri": "https://localhost:8080/"
        },
        "id": "6UZpXrVng3Gy",
        "outputId": "97910e22-bd37-4626-c595-cea49acae31a"
      },
      "execution_count": 361,
      "outputs": [
        {
          "output_type": "execute_result",
          "data": {
            "text/plain": [
              "array(['mar', 'oct', 'aug', 'sep', 'apr', 'jun', 'jul', 'feb', 'jan',\n",
              "       'dec', 'may', 'nov'], dtype=object)"
            ]
          },
          "metadata": {},
          "execution_count": 361
        }
      ]
    },
    {
      "cell_type": "code",
      "source": [
        "data.day.unique()"
      ],
      "metadata": {
        "colab": {
          "base_uri": "https://localhost:8080/"
        },
        "id": "ScnGOGCDg_KA",
        "outputId": "090c296c-8fab-4c6e-bda6-16b5b51c38ae"
      },
      "execution_count": 362,
      "outputs": [
        {
          "output_type": "execute_result",
          "data": {
            "text/plain": [
              "array(['fri', 'tue', 'sat', 'sun', 'mon', 'wed', 'thu'], dtype=object)"
            ]
          },
          "metadata": {},
          "execution_count": 362
        }
      ]
    },
    {
      "cell_type": "markdown",
      "source": [
        "Посмотрим на корреляцию признаков"
      ],
      "metadata": {
        "id": "qbZLL23iieRt"
      }
    },
    {
      "cell_type": "code",
      "source": [
        "plt.figure(figsize=(10, 10))\n",
        "mask = np.triu(data.corr())\n",
        "sns.heatmap(data.corr(), annot=True, cbar=False, linewidths=.5, fmt= '.2f', cmap= 'coolwarm', mask=mask)\n",
        "plt.show()"
      ],
      "metadata": {
        "colab": {
          "base_uri": "https://localhost:8080/",
          "height": 592
        },
        "id": "6UCD98z9iWZ8",
        "outputId": "9343d12d-5e23-4478-fd13-b71c341f411d"
      },
      "execution_count": 363,
      "outputs": [
        {
          "output_type": "display_data",
          "data": {
            "text/plain": [
              "<Figure size 720x720 with 1 Axes>"
            ],
            "image/png": "[encoded data removed]"
          },
          "metadata": {
            "needs_background": "light"
          }
        }
      ]
    },
    {
      "cell_type": "code",
      "source": [
        "data.hist(bins=30, figsize=(20,15))"
      ],
      "metadata": {
        "colab": {
          "base_uri": "https://localhost:8080/",
          "height": 1000
        },
        "id": "zQgoT0uAv4NQ",
        "outputId": "7b6f0af7-c207-448f-e3c9-729560b3109b"
      },
      "execution_count": 364,
      "outputs": [
        {
          "output_type": "execute_result",
          "data": {
            "text/plain": [
              "array([[<Axes: title={'center': 'X'}>, <Axes: title={'center': 'Y'}>,\n",
              "        <Axes: title={'center': 'FFMC'}>],\n",
              "       [<Axes: title={'center': 'DMC'}>, <Axes: title={'center': 'DC'}>,\n",
              "        <Axes: title={'center': 'ISI'}>],\n",
              "       [<Axes: title={'center': 'temp'}>, <Axes: title={'center': 'RH'}>,\n",
              "        <Axes: title={'center': 'wind'}>],\n",
              "       [<Axes: title={'center': 'rain'}>,\n",
              "        <Axes: title={'center': 'area'}>, <Axes: >]], dtype=object)"
            ]
          },
          "metadata": {},
          "execution_count": 364
        },
        {
          "output_type": "display_data",
          "data": {
            "text/plain": [
              "<Figure size 1440x1080 with 12 Axes>"
            ],
            "image/png": "[encoded data removed]"
          },
          "metadata": {
            "needs_background": "light"
          }
        }
      ]
    },
    {
      "cell_type": "markdown",
      "source": [
        "Посмотрим на выбросы"
      ],
      "metadata": {
        "id": "C2zyp5YZ1B2S"
      }
    },
    {
      "cell_type": "code",
      "source": [
        "sns.boxplot(data[['ISI']], orient='horizont')"
      ],
      "metadata": {
        "colab": {
          "base_uri": "https://localhost:8080/",
          "height": 282
        },
        "id": "YzWzkIN6srK6",
        "outputId": "f284cc53-0368-43de-9bf5-077c78b72d06"
      },
      "execution_count": 365,
      "outputs": [
        {
          "output_type": "execute_result",
          "data": {
            "text/plain": [
              "<Axes: >"
            ]
          },
          "metadata": {},
          "execution_count": 365
        },
        {
          "output_type": "display_data",
          "data": {
            "text/plain": [
              "<Figure size 432x288 with 1 Axes>"
            ],
            "image/png": "[encoded data removed]"
          },
          "metadata": {
            "needs_background": "light"
          }
        }
      ]
    },
    {
      "cell_type": "code",
      "source": [
        "sns.boxplot(data[['FFMC']], orient='horizont')"
      ],
      "metadata": {
        "colab": {
          "base_uri": "https://localhost:8080/",
          "height": 282
        },
        "id": "q_FjoSOGc3VT",
        "outputId": "f18fc7bb-f340-4093-e741-001a5e2c94b9"
      },
      "execution_count": 366,
      "outputs": [
        {
          "output_type": "execute_result",
          "data": {
            "text/plain": [
              "<Axes: >"
            ]
          },
          "metadata": {},
          "execution_count": 366
        },
        {
          "output_type": "display_data",
          "data": {
            "text/plain": [
              "<Figure size 432x288 with 1 Axes>"
            ],
            "image/png": "[encoded data removed]"
          },
          "metadata": {
            "needs_background": "light"
          }
        }
      ]
    },
    {
      "cell_type": "code",
      "source": [
        "sns.boxplot(data[['RH']], orient='horizont')"
      ],
      "metadata": {
        "colab": {
          "base_uri": "https://localhost:8080/",
          "height": 282
        },
        "id": "V8CdMnDNCqSS",
        "outputId": "2adc3203-3ccf-46e4-9662-1920daa491b6"
      },
      "execution_count": 367,
      "outputs": [
        {
          "output_type": "execute_result",
          "data": {
            "text/plain": [
              "<Axes: >"
            ]
          },
          "metadata": {},
          "execution_count": 367
        },
        {
          "output_type": "display_data",
          "data": {
            "text/plain": [
              "<Figure size 432x288 with 1 Axes>"
            ],
            "image/png": "[encoded data removed]"
          },
          "metadata": {
            "needs_background": "light"
          }
        }
      ]
    },
    {
      "cell_type": "code",
      "source": [
        "sns.boxplot(data[['wind']], orient='horizont')"
      ],
      "metadata": {
        "colab": {
          "base_uri": "https://localhost:8080/",
          "height": 282
        },
        "id": "PWUsP_0fC0DN",
        "outputId": "5171a8a6-7424-4dea-e8d9-904c8deecc26"
      },
      "execution_count": 368,
      "outputs": [
        {
          "output_type": "execute_result",
          "data": {
            "text/plain": [
              "<Axes: >"
            ]
          },
          "metadata": {},
          "execution_count": 368
        },
        {
          "output_type": "display_data",
          "data": {
            "text/plain": [
              "<Figure size 432x288 with 1 Axes>"
            ],
            "image/png": "[encoded data removed]"
          },
          "metadata": {
            "needs_background": "light"
          }
        }
      ]
    },
    {
      "cell_type": "code",
      "source": [
        "sns.boxplot(data[['rain']], orient='horizont')"
      ],
      "metadata": {
        "colab": {
          "base_uri": "https://localhost:8080/",
          "height": 282
        },
        "id": "TY2mYh1zC47r",
        "outputId": "9ee9ed29-6735-49f7-a54c-81080b61094e"
      },
      "execution_count": 369,
      "outputs": [
        {
          "output_type": "execute_result",
          "data": {
            "text/plain": [
              "<Axes: >"
            ]
          },
          "metadata": {},
          "execution_count": 369
        },
        {
          "output_type": "display_data",
          "data": {
            "text/plain": [
              "<Figure size 432x288 with 1 Axes>"
            ],
            "image/png": "[encoded data removed]"
          },
          "metadata": {
            "needs_background": "light"
          }
        }
      ]
    },
    {
      "cell_type": "markdown",
      "source": [
        "Я не уверен что это выбросы, так как если смотреть на природу данных, то диапазон изменения ветра похож на истину, температура тоже в диапазоне возможных значений, мм. осадков тоже похоже на истину. Не буду я удалять выбросы, так они не являются выбросами."
      ],
      "metadata": {
        "id": "Dgbm2edMh-JE"
      }
    },
    {
      "cell_type": "markdown",
      "source": [
        "Закодируем категориальные признаки в dummies переменные"
      ],
      "metadata": {
        "id": "C3Sq5DOipK90"
      }
    },
    {
      "cell_type": "code",
      "source": [
        "data = pd.get_dummies(data, columns=['day', 'month'], prefix_sep='=')"
      ],
      "metadata": {
        "id": "BNY3FN75nYt9"
      },
      "execution_count": 370,
      "outputs": []
    },
    {
      "cell_type": "code",
      "source": [
        "# data.head(3)"
      ],
      "metadata": {
        "id": "Yx-01ZLVn14a"
      },
      "execution_count": 371,
      "outputs": []
    },
    {
      "cell_type": "markdown",
      "source": [
        "Либо используем LabelEncoder"
      ],
      "metadata": {
        "id": "Jq4Rh2NC0k8_"
      }
    },
    {
      "cell_type": "code",
      "source": [
        "# le = LabelEncoder()\n",
        "# data['day'] = le.fit_transform(data['day'])\n",
        "# data['month'] = le.fit_transform(data['month'])"
      ],
      "metadata": {
        "id": "-F1eT_B_iIvW"
      },
      "execution_count": 372,
      "outputs": []
    },
    {
      "cell_type": "code",
      "source": [
        "data.tail(6)"
      ],
      "metadata": {
        "colab": {
          "base_uri": "https://localhost:8080/",
          "height": 264
        },
        "id": "ghgIr1NRyaOw",
        "outputId": "5f4efd95-827a-4b7c-a89c-dfa017c318ae"
      },
      "execution_count": 373,
      "outputs": [
        {
          "output_type": "execute_result",
          "data": {
            "text/plain": [
              "     X  Y  FFMC    DMC     DC   ISI  temp  RH  wind  rain  ...  month=dec  \\\n",
              "511  8  6  81.6   56.7  665.6   1.9  27.8  35   2.7   0.0  ...          0   \n",
              "512  4  3  81.6   56.7  665.6   1.9  27.8  32   2.7   0.0  ...          0   \n",
              "513  2  4  81.6   56.7  665.6   1.9  21.9  71   5.8   0.0  ...          0   \n",
              "514  7  4  81.6   56.7  665.6   1.9  21.2  70   6.7   0.0  ...          0   \n",
              "515  1  4  94.4  146.0  614.7  11.3  25.6  42   4.0   0.0  ...          0   \n",
              "516  6  3  79.5    3.0  106.7   1.1  11.8  31   4.5   0.0  ...          0   \n",
              "\n",
              "     month=feb  month=jan  month=jul  month=jun  month=mar  month=may  \\\n",
              "511          0          0          0          0          0          0   \n",
              "512          0          0          0          0          0          0   \n",
              "513          0          0          0          0          0          0   \n",
              "514          0          0          0          0          0          0   \n",
              "515          0          0          0          0          0          0   \n",
              "516          0          0          0          0          0          0   \n",
              "\n",
              "     month=nov  month=oct  month=sep  \n",
              "511          0          0          0  \n",
              "512          0          0          0  \n",
              "513          0          0          0  \n",
              "514          0          0          0  \n",
              "515          0          0          0  \n",
              "516          1          0          0  \n",
              "\n",
              "[6 rows x 30 columns]"
            ],
            "text/html": [
              "\n",
              "  <div id=\"df-d074a258-5d4d-4c99-bd7f-e09ba02990e3\">\n",
              "    <div class=\"colab-df-container\">\n",
              "      <div>\n",
              "<style scoped>\n",
              "    .dataframe tbody tr th:only-of-type {\n",
              "        vertical-align: middle;\n",
              "    }\n",
              "\n",
              "    .dataframe tbody tr th {\n",
              "        vertical-align: top;\n",
              "    }\n",
              "\n",
              "    .dataframe thead th {\n",
              "        text-align: right;\n",
              "    }\n",
              "</style>\n",
              "<table border=\"1\" class=\"dataframe\">\n",
              "  <thead>\n",
              "    <tr style=\"text-align: right;\">\n",
              "      <th></th>\n",
              "      <th>X</th>\n",
              "      <th>Y</th>\n",
              "      <th>FFMC</th>\n",
              "      <th>DMC</th>\n",
              "      <th>DC</th>\n",
              "      <th>ISI</th>\n",
              "      <th>temp</th>\n",
              "      <th>RH</th>\n",
              "      <th>wind</th>\n",
              "      <th>rain</th>\n",
              "      <th>...</th>\n",
              "      <th>month=dec</th>\n",
              "      <th>month=feb</th>\n",
              "      <th>month=jan</th>\n",
              "      <th>month=jul</th>\n",
              "      <th>month=jun</th>\n",
              "      <th>month=mar</th>\n",
              "      <th>month=may</th>\n",
              "      <th>month=nov</th>\n",
              "      <th>month=oct</th>\n",
              "      <th>month=sep</th>\n",
              "    </tr>\n",
              "  </thead>\n",
              "  <tbody>\n",
              "    <tr>\n",
              "      <th>511</th>\n",
              "      <td>8</td>\n",
              "      <td>6</td>\n",
              "      <td>81.6</td>\n",
              "      <td>56.7</td>\n",
              "      <td>665.6</td>\n",
              "      <td>1.9</td>\n",
              "      <td>27.8</td>\n",
              "      <td>35</td>\n",
              "      <td>2.7</td>\n",
              "      <td>0.0</td>\n",
              "      <td>...</td>\n",
              "      <td>0</td>\n",
              "      <td>0</td>\n",
              "      <td>0</td>\n",
              "      <td>0</td>\n",
              "      <td>0</td>\n",
              "      <td>0</td>\n",
              "      <td>0</td>\n",
              "      <td>0</td>\n",
              "      <td>0</td>\n",
              "      <td>0</td>\n",
              "    </tr>\n",
              "    <tr>\n",
              "      <th>512</th>\n",
              "      <td>4</td>\n",
              "      <td>3</td>\n",
              "      <td>81.6</td>\n",
              "      <td>56.7</td>\n",
              "      <td>665.6</td>\n",
              "      <td>1.9</td>\n",
              "      <td>27.8</td>\n",
              "      <td>32</td>\n",
              "      <td>2.7</td>\n",
              "      <td>0.0</td>\n",
              "      <td>...</td>\n",
              "      <td>0</td>\n",
              "      <td>0</td>\n",
              "      <td>0</td>\n",
              "      <td>0</td>\n",
              "      <td>0</td>\n",
              "      <td>0</td>\n",
              "      <td>0</td>\n",
              "      <td>0</td>\n",
              "      <td>0</td>\n",
              "      <td>0</td>\n",
              "    </tr>\n",
              "    <tr>\n",
              "      <th>513</th>\n",
              "      <td>2</td>\n",
              "      <td>4</td>\n",
              "      <td>81.6</td>\n",
              "      <td>56.7</td>\n",
              "      <td>665.6</td>\n",
              "      <td>1.9</td>\n",
              "      <td>21.9</td>\n",
              "      <td>71</td>\n",
              "      <td>5.8</td>\n",
              "      <td>0.0</td>\n",
              "      <td>...</td>\n",
              "      <td>0</td>\n",
              "      <td>0</td>\n",
              "      <td>0</td>\n",
              "      <td>0</td>\n",
              "      <td>0</td>\n",
              "      <td>0</td>\n",
              "      <td>0</td>\n",
              "      <td>0</td>\n",
              "      <td>0</td>\n",
              "      <td>0</td>\n",
              "    </tr>\n",
              "    <tr>\n",
              "      <th>514</th>\n",
              "      <td>7</td>\n",
              "      <td>4</td>\n",
              "      <td>81.6</td>\n",
              "      <td>56.7</td>\n",
              "      <td>665.6</td>\n",
              "      <td>1.9</td>\n",
              "      <td>21.2</td>\n",
              "      <td>70</td>\n",
              "      <td>6.7</td>\n",
              "      <td>0.0</td>\n",
              "      <td>...</td>\n",
              "      <td>0</td>\n",
              "      <td>0</td>\n",
              "      <td>0</td>\n",
              "      <td>0</td>\n",
              "      <td>0</td>\n",
              "      <td>0</td>\n",
              "      <td>0</td>\n",
              "      <td>0</td>\n",
              "      <td>0</td>\n",
              "      <td>0</td>\n",
              "    </tr>\n",
              "    <tr>\n",
              "      <th>515</th>\n",
              "      <td>1</td>\n",
              "      <td>4</td>\n",
              "      <td>94.4</td>\n",
              "      <td>146.0</td>\n",
              "      <td>614.7</td>\n",
              "      <td>11.3</td>\n",
              "      <td>25.6</td>\n",
              "      <td>42</td>\n",
              "      <td>4.0</td>\n",
              "      <td>0.0</td>\n",
              "      <td>...</td>\n",
              "      <td>0</td>\n",
              "      <td>0</td>\n",
              "      <td>0</td>\n",
              "      <td>0</td>\n",
              "      <td>0</td>\n",
              "      <td>0</td>\n",
              "      <td>0</td>\n",
              "      <td>0</td>\n",
              "      <td>0</td>\n",
              "      <td>0</td>\n",
              "    </tr>\n",
              "    <tr>\n",
              "      <th>516</th>\n",
              "      <td>6</td>\n",
              "      <td>3</td>\n",
              "      <td>79.5</td>\n",
              "      <td>3.0</td>\n",
              "      <td>106.7</td>\n",
              "      <td>1.1</td>\n",
              "      <td>11.8</td>\n",
              "      <td>31</td>\n",
              "      <td>4.5</td>\n",
              "      <td>0.0</td>\n",
              "      <td>...</td>\n",
              "      <td>0</td>\n",
              "      <td>0</td>\n",
              "      <td>0</td>\n",
              "      <td>0</td>\n",
              "      <td>0</td>\n",
              "      <td>0</td>\n",
              "      <td>0</td>\n",
              "      <td>1</td>\n",
              "      <td>0</td>\n",
              "      <td>0</td>\n",
              "    </tr>\n",
              "  </tbody>\n",
              "</table>\n",
              "<p>6 rows × 30 columns</p>\n",
              "</div>\n",
              "      <button class=\"colab-df-convert\" onclick=\"convertToInteractive('df-d074a258-5d4d-4c99-bd7f-e09ba02990e3')\"\n",
              "              title=\"Convert this dataframe to an interactive table.\"\n",
              "              style=\"display:none;\">\n",
              "        \n",
              "  <svg xmlns=\"http://www.w3.org/2000/svg\" height=\"24px\"viewBox=\"0 0 24 24\"\n",
              "       width=\"24px\">\n",
              "    <path d=\"M0 0h24v24H0V0z\" fill=\"none\"/>\n",
              "    <path d=\"M18.56 5.44l.94 2.06.94-2.06 2.06-.94-2.06-.94-.94-2.06-.94 2.06-2.06.94zm-11 1L8.5 8.5l.94-2.06 2.06-.94-2.06-.94L8.5 2.5l-.94 2.06-2.06.94zm10 10l.94 2.06.94-2.06 2.06-.94-2.06-.94-.94-2.06-.94 2.06-2.06.94z\"/><path d=\"M17.41 7.96l-1.37-1.37c-.4-.4-.92-.59-1.43-.59-.52 0-1.04.2-1.43.59L10.3 9.45l-7.72 7.72c-.78.78-.78 2.05 0 2.83L4 21.41c.39.39.9.59 1.41.59.51 0 1.02-.2 1.41-.59l7.78-7.78 2.81-2.81c.8-.78.8-2.07 0-2.86zM5.41 20L4 18.59l7.72-7.72 1.47 1.35L5.41 20z\"/>\n",
              "  </svg>\n",
              "      </button>\n",
              "      \n",
              "  <style>\n",
              "    .colab-df-container {\n",
              "      display:flex;\n",
              "      flex-wrap:wrap;\n",
              "      gap: 12px;\n",
              "    }\n",
              "\n",
              "    .colab-df-convert {\n",
              "      background-color: #E8F0FE;\n",
              "      border: none;\n",
              "      border-radius: 50%;\n",
              "      cursor: pointer;\n",
              "      display: none;\n",
              "      fill: #1967D2;\n",
              "      height: 32px;\n",
              "      padding: 0 0 0 0;\n",
              "      width: 32px;\n",
              "    }\n",
              "\n",
              "    .colab-df-convert:hover {\n",
              "      background-color: #E2EBFA;\n",
              "      box-shadow: 0px 1px 2px rgba(60, 64, 67, 0.3), 0px 1px 3px 1px rgba(60, 64, 67, 0.15);\n",
              "      fill: #174EA6;\n",
              "    }\n",
              "\n",
              "    [theme=dark] .colab-df-convert {\n",
              "      background-color: #3B4455;\n",
              "      fill: #D2E3FC;\n",
              "    }\n",
              "\n",
              "    [theme=dark] .colab-df-convert:hover {\n",
              "      background-color: #434B5C;\n",
              "      box-shadow: 0px 1px 3px 1px rgba(0, 0, 0, 0.15);\n",
              "      filter: drop-shadow(0px 1px 2px rgba(0, 0, 0, 0.3));\n",
              "      fill: #FFFFFF;\n",
              "    }\n",
              "  </style>\n",
              "\n",
              "      <script>\n",
              "        const buttonEl =\n",
              "          document.querySelector('#df-d074a258-5d4d-4c99-bd7f-e09ba02990e3 button.colab-df-convert');\n",
              "        buttonEl.style.display =\n",
              "          google.colab.kernel.accessAllowed ? 'block' : 'none';\n",
              "\n",
              "        async function convertToInteractive(key) {\n",
              "          const element = document.querySelector('#df-d074a258-5d4d-4c99-bd7f-e09ba02990e3');\n",
              "          const dataTable =\n",
              "            await google.colab.kernel.invokeFunction('convertToInteractive',\n",
              "                                                     [key], {});\n",
              "          if (!dataTable) return;\n",
              "\n",
              "          const docLinkHtml = 'Like what you see? Visit the ' +\n",
              "            '<a target=\"_blank\" href=https://colab.research.google.com/notebooks/data_table.ipynb>data table notebook</a>'\n",
              "            + ' to learn more about interactive tables.';\n",
              "          element.innerHTML = '';\n",
              "          dataTable['output_type'] = 'display_data';\n",
              "          await google.colab.output.renderOutput(dataTable, element);\n",
              "          const docLink = document.createElement('div');\n",
              "          docLink.innerHTML = docLinkHtml;\n",
              "          element.appendChild(docLink);\n",
              "        }\n",
              "      </script>\n",
              "    </div>\n",
              "  </div>\n",
              "  "
            ]
          },
          "metadata": {},
          "execution_count": 373
        }
      ]
    },
    {
      "cell_type": "markdown",
      "source": [
        "Разобьём данные на train и test"
      ],
      "metadata": {
        "id": "L0GhPC3z1g1L"
      }
    },
    {
      "cell_type": "code",
      "source": [
        "X_train, X_test, y_train, y_test = train_test_split(\n",
        "    data.drop(['area'], axis=1), data['area'], test_size=0.20, random_state=42)"
      ],
      "metadata": {
        "id": "imOZbz-I1xh8"
      },
      "execution_count": 374,
      "outputs": []
    },
    {
      "cell_type": "code",
      "source": [
        "X_train.shape, X_test.shape, y_train.shape, y_test.shape"
      ],
      "metadata": {
        "colab": {
          "base_uri": "https://localhost:8080/"
        },
        "id": "ArYI5Crn2Wfc",
        "outputId": "66103725-1550-4081-f996-1e2a3ea92a2c"
      },
      "execution_count": 375,
      "outputs": [
        {
          "output_type": "execute_result",
          "data": {
            "text/plain": [
              "((413, 29), (104, 29), (413,), (104,))"
            ]
          },
          "metadata": {},
          "execution_count": 375
        }
      ]
    },
    {
      "cell_type": "markdown",
      "source": [
        "# Modeling"
      ],
      "metadata": {
        "id": "xADMbmMQCCh3"
      }
    },
    {
      "cell_type": "markdown",
      "source": [
        "Возьмём модели \"из коробки\" без настроек гиперпараметров"
      ],
      "metadata": {
        "id": "mHYD7KYRCOJB"
      }
    },
    {
      "cell_type": "markdown",
      "source": [
        "**GradientBoostingRegressor**"
      ],
      "metadata": {
        "id": "Y-NCZhJm7xfc"
      }
    },
    {
      "cell_type": "code",
      "source": [
        "%%time\n",
        "gbr = GradientBoostingRegressor(random_state=123)\n",
        "\n",
        "gbr = gbr.fit(X_train, y_train)\n",
        "\n",
        "y_pred = gbr.predict(X_test)"
      ],
      "metadata": {
        "colab": {
          "base_uri": "https://localhost:8080/"
        },
        "id": "wWeEo0BP75n2",
        "outputId": "a5214b6e-c483-44e4-ec46-c6062d8ecab4"
      },
      "execution_count": 376,
      "outputs": [
        {
          "output_type": "stream",
          "name": "stdout",
          "text": [
            "CPU times: user 117 ms, sys: 1.91 ms, total: 119 ms\n",
            "Wall time: 122 ms\n"
          ]
        }
      ]
    },
    {
      "cell_type": "code",
      "source": [
        "rmse = np.sqrt(mean_squared_error(y_test, y_pred))\n",
        "print(\"The RMSE on test set: {:.4f}\".format(rmse))"
      ],
      "metadata": {
        "colab": {
          "base_uri": "https://localhost:8080/"
        },
        "id": "dSj7lMxe9ZZB",
        "outputId": "62394590-420e-40e4-f579-e7bffca2b771"
      },
      "execution_count": 377,
      "outputs": [
        {
          "output_type": "stream",
          "name": "stdout",
          "text": [
            "The RMSE on test set: 109.1006\n"
          ]
        }
      ]
    },
    {
      "cell_type": "markdown",
      "source": [
        "**XGBRegressor**"
      ],
      "metadata": {
        "id": "y4QEQypiDNq7"
      }
    },
    {
      "cell_type": "code",
      "source": [
        "%%time\n",
        "xgb = XGBRegressor()\n",
        "\n",
        "xgb = xgb.fit(X_train, y_train)\n",
        "\n",
        "y_pred = xgb.predict(X_test)"
      ],
      "metadata": {
        "colab": {
          "base_uri": "https://localhost:8080/"
        },
        "id": "IkIMMYWHDQxy",
        "outputId": "446e1978-b0db-417b-c53b-c844f010d910"
      },
      "execution_count": 378,
      "outputs": [
        {
          "output_type": "stream",
          "name": "stdout",
          "text": [
            "CPU times: user 185 ms, sys: 4.8 ms, total: 190 ms\n",
            "Wall time: 102 ms\n"
          ]
        }
      ]
    },
    {
      "cell_type": "code",
      "source": [
        "rmse = np.sqrt(mean_squared_error(y_test, y_pred))\n",
        "print(\"The RMSE on test set: {:.4f}\".format(rmse))"
      ],
      "metadata": {
        "colab": {
          "base_uri": "https://localhost:8080/"
        },
        "id": "2OWEHjrJEEKR",
        "outputId": "1f9f47a6-2c95-45cd-ec36-a0a051b08a95"
      },
      "execution_count": 379,
      "outputs": [
        {
          "output_type": "stream",
          "name": "stdout",
          "text": [
            "The RMSE on test set: 113.6078\n"
          ]
        }
      ]
    },
    {
      "cell_type": "markdown",
      "source": [
        "**LGBMRegressor**"
      ],
      "metadata": {
        "id": "YvFe2vR7Em4a"
      }
    },
    {
      "cell_type": "code",
      "source": [
        "%%time\n",
        "lgbm = LGBMRegressor()\n",
        "\n",
        "lgbm = lgbm.fit(X_train, y_train)\n",
        "\n",
        "y_pred = lgbm.predict(X_test)"
      ],
      "metadata": {
        "colab": {
          "base_uri": "https://localhost:8080/"
        },
        "id": "9FC9aeqOEo3T",
        "outputId": "218026b9-6a47-4ec4-fb1b-caf47bd73b87"
      },
      "execution_count": 380,
      "outputs": [
        {
          "output_type": "stream",
          "name": "stdout",
          "text": [
            "CPU times: user 50.3 ms, sys: 3.03 ms, total: 53.3 ms\n",
            "Wall time: 29.6 ms\n"
          ]
        }
      ]
    },
    {
      "cell_type": "code",
      "source": [
        "rmse = np.sqrt(mean_squared_error(y_test, y_pred))\n",
        "print(\"The RMSE on test set: {:.4f}\".format(rmse))"
      ],
      "metadata": {
        "colab": {
          "base_uri": "https://localhost:8080/"
        },
        "id": "E_O5Gsy-E22R",
        "outputId": "d63c2d6a-c3bf-4cc2-fa0c-7d5a60167c54"
      },
      "execution_count": 381,
      "outputs": [
        {
          "output_type": "stream",
          "name": "stdout",
          "text": [
            "The RMSE on test set: 108.9468\n"
          ]
        }
      ]
    },
    {
      "cell_type": "markdown",
      "source": [
        "**CatBoostRegressor**"
      ],
      "metadata": {
        "id": "s2RkE6a9FBsh"
      }
    },
    {
      "cell_type": "code",
      "source": [
        "%%time\n",
        "cbr = CatBoostRegressor()\n",
        "\n",
        "cbr = cbr.fit(X_train, y_train)\n",
        "\n",
        "y_pred = cbr.predict(X_test)"
      ],
      "metadata": {
        "colab": {
          "base_uri": "https://localhost:8080/"
        },
        "id": "fdv4a-ePFFl4",
        "outputId": "8e36d126-8c55-41bf-8dfa-a9d907b20ffa"
      },
      "execution_count": 382,
      "outputs": [
        {
          "output_type": "stream",
          "name": "stdout",
          "text": [
            "Learning rate set to 0.033346\n",
            "0:\tlearn: 45.3986705\ttotal: 6.86ms\tremaining: 6.85s\n",
            "1:\tlearn: 45.1369089\ttotal: 8.79ms\tremaining: 4.39s\n",
            "2:\tlearn: 44.8603637\ttotal: 11.4ms\tremaining: 3.79s\n",
            "3:\tlearn: 44.6625106\ttotal: 12.3ms\tremaining: 3.06s\n",
            "4:\tlearn: 44.4272746\ttotal: 13.3ms\tremaining: 2.65s\n",
            "5:\tlearn: 44.1830584\ttotal: 14.3ms\tremaining: 2.37s\n",
            "6:\tlearn: 43.9895794\ttotal: 15.3ms\tremaining: 2.17s\n",
            "7:\tlearn: 43.7601657\ttotal: 16.3ms\tremaining: 2.02s\n",
            "8:\tlearn: 43.5290658\ttotal: 17.2ms\tremaining: 1.9s\n",
            "9:\tlearn: 43.2865366\ttotal: 18.3ms\tremaining: 1.81s\n",
            "10:\tlearn: 43.1135954\ttotal: 19.3ms\tremaining: 1.73s\n",
            "11:\tlearn: 42.8847461\ttotal: 20.2ms\tremaining: 1.67s\n",
            "12:\tlearn: 42.6639911\ttotal: 22ms\tremaining: 1.67s\n",
            "13:\tlearn: 42.4410741\ttotal: 23.2ms\tremaining: 1.63s\n",
            "14:\tlearn: 42.3830639\ttotal: 24.3ms\tremaining: 1.59s\n",
            "15:\tlearn: 42.1675693\ttotal: 25.4ms\tremaining: 1.56s\n",
            "16:\tlearn: 41.9428562\ttotal: 26.4ms\tremaining: 1.52s\n",
            "17:\tlearn: 41.7116075\ttotal: 27.4ms\tremaining: 1.49s\n",
            "18:\tlearn: 41.4779920\ttotal: 28.4ms\tremaining: 1.46s\n",
            "19:\tlearn: 41.2596246\ttotal: 29.4ms\tremaining: 1.44s\n",
            "20:\tlearn: 41.0961992\ttotal: 30.1ms\tremaining: 1.4s\n",
            "21:\tlearn: 40.8859898\ttotal: 31.1ms\tremaining: 1.38s\n",
            "22:\tlearn: 40.6814054\ttotal: 32.2ms\tremaining: 1.37s\n",
            "23:\tlearn: 40.4794788\ttotal: 33.1ms\tremaining: 1.35s\n",
            "24:\tlearn: 40.2851853\ttotal: 34.1ms\tremaining: 1.33s\n",
            "25:\tlearn: 40.0779563\ttotal: 35ms\tremaining: 1.31s\n",
            "26:\tlearn: 39.8860431\ttotal: 36ms\tremaining: 1.3s\n",
            "27:\tlearn: 39.6925523\ttotal: 39.4ms\tremaining: 1.37s\n",
            "28:\tlearn: 39.4892335\ttotal: 40.4ms\tremaining: 1.35s\n",
            "29:\tlearn: 39.3088032\ttotal: 41.4ms\tremaining: 1.34s\n",
            "30:\tlearn: 39.1157632\ttotal: 42.3ms\tremaining: 1.32s\n",
            "31:\tlearn: 38.9375790\ttotal: 43.3ms\tremaining: 1.31s\n",
            "32:\tlearn: 38.7634363\ttotal: 44.1ms\tremaining: 1.29s\n",
            "33:\tlearn: 38.5609399\ttotal: 45.1ms\tremaining: 1.28s\n",
            "34:\tlearn: 38.3856547\ttotal: 46.5ms\tremaining: 1.28s\n",
            "35:\tlearn: 38.2079976\ttotal: 47.7ms\tremaining: 1.28s\n",
            "36:\tlearn: 38.0283926\ttotal: 49.5ms\tremaining: 1.29s\n",
            "37:\tlearn: 37.9223732\ttotal: 50.6ms\tremaining: 1.28s\n",
            "38:\tlearn: 37.7499527\ttotal: 51.7ms\tremaining: 1.27s\n",
            "39:\tlearn: 37.6030015\ttotal: 52.7ms\tremaining: 1.26s\n",
            "40:\tlearn: 37.4408535\ttotal: 53.7ms\tremaining: 1.26s\n",
            "41:\tlearn: 37.3091716\ttotal: 54.7ms\tremaining: 1.25s\n",
            "42:\tlearn: 37.1329029\ttotal: 55.7ms\tremaining: 1.24s\n",
            "43:\tlearn: 36.9754470\ttotal: 56.7ms\tremaining: 1.23s\n",
            "44:\tlearn: 36.8025866\ttotal: 57.7ms\tremaining: 1.23s\n",
            "45:\tlearn: 36.6423178\ttotal: 58.7ms\tremaining: 1.22s\n",
            "46:\tlearn: 36.4892591\ttotal: 59.7ms\tremaining: 1.21s\n",
            "47:\tlearn: 36.3303572\ttotal: 60.6ms\tremaining: 1.2s\n",
            "48:\tlearn: 36.1390836\ttotal: 61.6ms\tremaining: 1.2s\n",
            "49:\tlearn: 35.9774803\ttotal: 62.6ms\tremaining: 1.19s\n",
            "50:\tlearn: 35.8318886\ttotal: 63.5ms\tremaining: 1.18s\n",
            "51:\tlearn: 35.6770540\ttotal: 64.5ms\tremaining: 1.18s\n",
            "52:\tlearn: 35.5373151\ttotal: 65.5ms\tremaining: 1.17s\n",
            "53:\tlearn: 35.3976828\ttotal: 66.5ms\tremaining: 1.16s\n",
            "54:\tlearn: 35.2544879\ttotal: 67.5ms\tremaining: 1.16s\n",
            "55:\tlearn: 35.1142050\ttotal: 68.5ms\tremaining: 1.15s\n",
            "56:\tlearn: 34.9757561\ttotal: 69.4ms\tremaining: 1.15s\n",
            "57:\tlearn: 34.8353229\ttotal: 70.4ms\tremaining: 1.14s\n",
            "58:\tlearn: 34.7674267\ttotal: 71.3ms\tremaining: 1.14s\n",
            "59:\tlearn: 34.6343100\ttotal: 72.3ms\tremaining: 1.13s\n",
            "60:\tlearn: 34.4787772\ttotal: 73.3ms\tremaining: 1.13s\n",
            "61:\tlearn: 34.3345156\ttotal: 74.3ms\tremaining: 1.12s\n",
            "62:\tlearn: 34.1642680\ttotal: 75.3ms\tremaining: 1.12s\n",
            "63:\tlearn: 33.9934090\ttotal: 77ms\tremaining: 1.13s\n",
            "64:\tlearn: 33.9457999\ttotal: 78.3ms\tremaining: 1.13s\n",
            "65:\tlearn: 33.7892409\ttotal: 80.7ms\tremaining: 1.14s\n",
            "66:\tlearn: 33.6647675\ttotal: 81.7ms\tremaining: 1.14s\n",
            "67:\tlearn: 33.5301343\ttotal: 82.8ms\tremaining: 1.13s\n",
            "68:\tlearn: 33.3766491\ttotal: 83.8ms\tremaining: 1.13s\n",
            "69:\tlearn: 33.2212757\ttotal: 84.8ms\tremaining: 1.13s\n",
            "70:\tlearn: 33.1013005\ttotal: 85.9ms\tremaining: 1.12s\n",
            "71:\tlearn: 32.9787847\ttotal: 86.8ms\tremaining: 1.12s\n",
            "72:\tlearn: 32.8517126\ttotal: 87.7ms\tremaining: 1.11s\n",
            "73:\tlearn: 32.7024219\ttotal: 88.7ms\tremaining: 1.11s\n",
            "74:\tlearn: 32.5693992\ttotal: 89.8ms\tremaining: 1.11s\n",
            "75:\tlearn: 32.4472071\ttotal: 90.8ms\tremaining: 1.1s\n",
            "76:\tlearn: 32.3295026\ttotal: 91.8ms\tremaining: 1.1s\n",
            "77:\tlearn: 32.2048074\ttotal: 92.8ms\tremaining: 1.1s\n",
            "78:\tlearn: 32.0946802\ttotal: 93.7ms\tremaining: 1.09s\n",
            "79:\tlearn: 32.0467173\ttotal: 94.7ms\tremaining: 1.09s\n",
            "80:\tlearn: 31.9289623\ttotal: 95.7ms\tremaining: 1.08s\n",
            "81:\tlearn: 31.7983260\ttotal: 96.7ms\tremaining: 1.08s\n",
            "82:\tlearn: 31.6773519\ttotal: 98.9ms\tremaining: 1.09s\n",
            "83:\tlearn: 31.6305411\ttotal: 100ms\tremaining: 1.09s\n",
            "84:\tlearn: 31.5272190\ttotal: 102ms\tremaining: 1.1s\n",
            "85:\tlearn: 31.4248046\ttotal: 103ms\tremaining: 1.1s\n",
            "86:\tlearn: 31.2908449\ttotal: 104ms\tremaining: 1.09s\n",
            "87:\tlearn: 31.1946176\ttotal: 105ms\tremaining: 1.09s\n",
            "88:\tlearn: 31.0828050\ttotal: 106ms\tremaining: 1.09s\n",
            "89:\tlearn: 30.9283748\ttotal: 107ms\tremaining: 1.08s\n",
            "90:\tlearn: 30.8244403\ttotal: 115ms\tremaining: 1.15s\n",
            "91:\tlearn: 30.7078945\ttotal: 116ms\tremaining: 1.14s\n",
            "92:\tlearn: 30.5903590\ttotal: 118ms\tremaining: 1.15s\n",
            "93:\tlearn: 30.4888883\ttotal: 119ms\tremaining: 1.15s\n",
            "94:\tlearn: 30.3859147\ttotal: 121ms\tremaining: 1.15s\n",
            "95:\tlearn: 30.2943160\ttotal: 122ms\tremaining: 1.14s\n",
            "96:\tlearn: 30.2649189\ttotal: 122ms\tremaining: 1.14s\n",
            "97:\tlearn: 30.1627134\ttotal: 123ms\tremaining: 1.13s\n",
            "98:\tlearn: 30.1168735\ttotal: 124ms\tremaining: 1.13s\n",
            "99:\tlearn: 30.0976294\ttotal: 125ms\tremaining: 1.12s\n",
            "100:\tlearn: 30.0080405\ttotal: 125ms\tremaining: 1.11s\n",
            "101:\tlearn: 29.8577670\ttotal: 126ms\tremaining: 1.11s\n",
            "102:\tlearn: 29.7819739\ttotal: 127ms\tremaining: 1.11s\n",
            "103:\tlearn: 29.7287007\ttotal: 128ms\tremaining: 1.1s\n",
            "104:\tlearn: 29.6801803\ttotal: 129ms\tremaining: 1.1s\n",
            "105:\tlearn: 29.6182794\ttotal: 130ms\tremaining: 1.1s\n",
            "106:\tlearn: 29.5085703\ttotal: 131ms\tremaining: 1.09s\n",
            "107:\tlearn: 29.4262283\ttotal: 132ms\tremaining: 1.09s\n",
            "108:\tlearn: 29.3357271\ttotal: 133ms\tremaining: 1.09s\n",
            "109:\tlearn: 29.2402150\ttotal: 134ms\tremaining: 1.08s\n",
            "110:\tlearn: 29.1228869\ttotal: 135ms\tremaining: 1.08s\n",
            "111:\tlearn: 29.1054890\ttotal: 136ms\tremaining: 1.08s\n",
            "112:\tlearn: 29.0136293\ttotal: 137ms\tremaining: 1.08s\n",
            "113:\tlearn: 28.8942471\ttotal: 138ms\tremaining: 1.07s\n",
            "114:\tlearn: 28.7987511\ttotal: 139ms\tremaining: 1.07s\n",
            "115:\tlearn: 28.6650708\ttotal: 140ms\tremaining: 1.07s\n",
            "116:\tlearn: 28.6211945\ttotal: 141ms\tremaining: 1.06s\n",
            "117:\tlearn: 28.5411719\ttotal: 142ms\tremaining: 1.06s\n",
            "118:\tlearn: 28.4661029\ttotal: 143ms\tremaining: 1.06s\n",
            "119:\tlearn: 28.4208532\ttotal: 144ms\tremaining: 1.06s\n",
            "120:\tlearn: 28.3493933\ttotal: 148ms\tremaining: 1.08s\n",
            "121:\tlearn: 28.2398298\ttotal: 149ms\tremaining: 1.07s\n",
            "122:\tlearn: 28.1592662\ttotal: 150ms\tremaining: 1.07s\n",
            "123:\tlearn: 28.0653608\ttotal: 151ms\tremaining: 1.07s\n",
            "124:\tlearn: 28.0149705\ttotal: 152ms\tremaining: 1.07s\n",
            "125:\tlearn: 27.9390218\ttotal: 153ms\tremaining: 1.06s\n",
            "126:\tlearn: 27.8561840\ttotal: 154ms\tremaining: 1.06s\n",
            "127:\tlearn: 27.7880208\ttotal: 155ms\tremaining: 1.06s\n",
            "128:\tlearn: 27.6987767\ttotal: 156ms\tremaining: 1.05s\n",
            "129:\tlearn: 27.6715657\ttotal: 159ms\tremaining: 1.06s\n",
            "130:\tlearn: 27.6056800\ttotal: 160ms\tremaining: 1.06s\n",
            "131:\tlearn: 27.5382470\ttotal: 161ms\tremaining: 1.06s\n",
            "132:\tlearn: 27.4772401\ttotal: 162ms\tremaining: 1.05s\n",
            "133:\tlearn: 27.3887966\ttotal: 163ms\tremaining: 1.05s\n",
            "134:\tlearn: 27.3490978\ttotal: 164ms\tremaining: 1.05s\n",
            "135:\tlearn: 27.2394244\ttotal: 165ms\tremaining: 1.05s\n",
            "136:\tlearn: 27.1416809\ttotal: 166ms\tremaining: 1.04s\n",
            "137:\tlearn: 27.0567109\ttotal: 167ms\tremaining: 1.04s\n",
            "138:\tlearn: 27.0422627\ttotal: 168ms\tremaining: 1.04s\n",
            "139:\tlearn: 26.9886160\ttotal: 169ms\tremaining: 1.03s\n",
            "140:\tlearn: 26.9479682\ttotal: 169ms\tremaining: 1.03s\n",
            "141:\tlearn: 26.8930801\ttotal: 170ms\tremaining: 1.03s\n",
            "142:\tlearn: 26.8077047\ttotal: 171ms\tremaining: 1.03s\n",
            "143:\tlearn: 26.7607781\ttotal: 172ms\tremaining: 1.02s\n",
            "144:\tlearn: 26.6887366\ttotal: 173ms\tremaining: 1.02s\n",
            "145:\tlearn: 26.6231350\ttotal: 174ms\tremaining: 1.02s\n",
            "146:\tlearn: 26.6222039\ttotal: 175ms\tremaining: 1.02s\n",
            "147:\tlearn: 26.5475486\ttotal: 177ms\tremaining: 1.02s\n",
            "148:\tlearn: 26.4625877\ttotal: 179ms\tremaining: 1.02s\n",
            "149:\tlearn: 26.4180182\ttotal: 180ms\tremaining: 1.02s\n",
            "150:\tlearn: 26.3379292\ttotal: 181ms\tremaining: 1.02s\n",
            "151:\tlearn: 26.2441896\ttotal: 182ms\tremaining: 1.01s\n",
            "152:\tlearn: 26.1263562\ttotal: 183ms\tremaining: 1.01s\n",
            "153:\tlearn: 26.0238891\ttotal: 184ms\tremaining: 1.01s\n",
            "154:\tlearn: 25.9317760\ttotal: 185ms\tremaining: 1s\n",
            "155:\tlearn: 25.8572746\ttotal: 185ms\tremaining: 1s\n",
            "156:\tlearn: 25.7303171\ttotal: 186ms\tremaining: 1s\n",
            "157:\tlearn: 25.6632414\ttotal: 187ms\tremaining: 998ms\n",
            "158:\tlearn: 25.5914962\ttotal: 191ms\tremaining: 1.01s\n",
            "159:\tlearn: 25.5156677\ttotal: 192ms\tremaining: 1.01s\n",
            "160:\tlearn: 25.4555025\ttotal: 193ms\tremaining: 1.01s\n",
            "161:\tlearn: 25.4116677\ttotal: 194ms\tremaining: 1s\n",
            "162:\tlearn: 25.3165308\ttotal: 195ms\tremaining: 1s\n",
            "163:\tlearn: 25.2664674\ttotal: 196ms\tremaining: 1s\n",
            "164:\tlearn: 25.2169403\ttotal: 197ms\tremaining: 998ms\n",
            "165:\tlearn: 25.1436529\ttotal: 198ms\tremaining: 995ms\n",
            "166:\tlearn: 24.9988969\ttotal: 199ms\tremaining: 993ms\n",
            "167:\tlearn: 24.9408261\ttotal: 200ms\tremaining: 991ms\n",
            "168:\tlearn: 24.8744617\ttotal: 201ms\tremaining: 988ms\n",
            "169:\tlearn: 24.7915973\ttotal: 202ms\tremaining: 986ms\n",
            "170:\tlearn: 24.6849654\ttotal: 203ms\tremaining: 984ms\n",
            "171:\tlearn: 24.5527714\ttotal: 204ms\tremaining: 982ms\n",
            "172:\tlearn: 24.4961685\ttotal: 205ms\tremaining: 979ms\n",
            "173:\tlearn: 24.4372872\ttotal: 206ms\tremaining: 977ms\n",
            "174:\tlearn: 24.2941279\ttotal: 207ms\tremaining: 975ms\n",
            "175:\tlearn: 24.2371974\ttotal: 208ms\tremaining: 973ms\n",
            "176:\tlearn: 24.2047625\ttotal: 209ms\tremaining: 970ms\n",
            "177:\tlearn: 24.1727986\ttotal: 210ms\tremaining: 968ms\n",
            "178:\tlearn: 24.0899389\ttotal: 211ms\tremaining: 966ms\n",
            "179:\tlearn: 24.0001297\ttotal: 212ms\tremaining: 964ms\n",
            "180:\tlearn: 23.9414877\ttotal: 213ms\tremaining: 962ms\n",
            "181:\tlearn: 23.8296008\ttotal: 214ms\tremaining: 960ms\n",
            "182:\tlearn: 23.7735037\ttotal: 214ms\tremaining: 957ms\n",
            "183:\tlearn: 23.7608546\ttotal: 215ms\tremaining: 954ms\n",
            "184:\tlearn: 23.6844396\ttotal: 216ms\tremaining: 952ms\n",
            "185:\tlearn: 23.6329878\ttotal: 217ms\tremaining: 950ms\n",
            "186:\tlearn: 23.5823373\ttotal: 218ms\tremaining: 948ms\n",
            "187:\tlearn: 23.5262915\ttotal: 219ms\tremaining: 946ms\n",
            "188:\tlearn: 23.4644824\ttotal: 220ms\tremaining: 944ms\n",
            "189:\tlearn: 23.4000335\ttotal: 221ms\tremaining: 942ms\n",
            "190:\tlearn: 23.3189008\ttotal: 222ms\tremaining: 940ms\n",
            "191:\tlearn: 23.2714671\ttotal: 223ms\tremaining: 938ms\n",
            "192:\tlearn: 23.1741241\ttotal: 224ms\tremaining: 936ms\n",
            "193:\tlearn: 23.0660585\ttotal: 225ms\tremaining: 934ms\n",
            "194:\tlearn: 22.9910457\ttotal: 226ms\tremaining: 932ms\n",
            "195:\tlearn: 22.9486685\ttotal: 227ms\tremaining: 930ms\n",
            "196:\tlearn: 22.8390243\ttotal: 228ms\tremaining: 928ms\n",
            "197:\tlearn: 22.7849907\ttotal: 229ms\tremaining: 926ms\n",
            "198:\tlearn: 22.7187287\ttotal: 230ms\tremaining: 924ms\n",
            "199:\tlearn: 22.5761604\ttotal: 231ms\tremaining: 922ms\n",
            "200:\tlearn: 22.5222173\ttotal: 232ms\tremaining: 920ms\n",
            "201:\tlearn: 22.4606766\ttotal: 232ms\tremaining: 918ms\n",
            "202:\tlearn: 22.3722078\ttotal: 233ms\tremaining: 917ms\n",
            "203:\tlearn: 22.3146724\ttotal: 234ms\tremaining: 915ms\n",
            "204:\tlearn: 22.2738308\ttotal: 235ms\tremaining: 913ms\n",
            "205:\tlearn: 22.1933285\ttotal: 236ms\tremaining: 911ms\n",
            "206:\tlearn: 22.1145568\ttotal: 237ms\tremaining: 909ms\n",
            "207:\tlearn: 22.0676046\ttotal: 238ms\tremaining: 907ms\n",
            "208:\tlearn: 21.9905939\ttotal: 239ms\tremaining: 905ms\n",
            "209:\tlearn: 21.8520230\ttotal: 240ms\tremaining: 903ms\n",
            "210:\tlearn: 21.8053311\ttotal: 241ms\tremaining: 901ms\n",
            "211:\tlearn: 21.7146897\ttotal: 242ms\tremaining: 899ms\n",
            "212:\tlearn: 21.6217076\ttotal: 243ms\tremaining: 898ms\n",
            "213:\tlearn: 21.5568771\ttotal: 244ms\tremaining: 897ms\n",
            "214:\tlearn: 21.4786420\ttotal: 245ms\tremaining: 895ms\n",
            "215:\tlearn: 21.4389274\ttotal: 246ms\tremaining: 894ms\n",
            "216:\tlearn: 21.3819607\ttotal: 247ms\tremaining: 892ms\n",
            "217:\tlearn: 21.3357517\ttotal: 248ms\tremaining: 889ms\n",
            "218:\tlearn: 21.2981612\ttotal: 249ms\tremaining: 887ms\n",
            "219:\tlearn: 21.1835481\ttotal: 250ms\tremaining: 886ms\n",
            "220:\tlearn: 21.1411048\ttotal: 251ms\tremaining: 884ms\n",
            "221:\tlearn: 21.0563536\ttotal: 252ms\tremaining: 882ms\n",
            "222:\tlearn: 20.9970123\ttotal: 253ms\tremaining: 881ms\n",
            "223:\tlearn: 20.8879421\ttotal: 254ms\tremaining: 879ms\n",
            "224:\tlearn: 20.8454748\ttotal: 255ms\tremaining: 877ms\n",
            "225:\tlearn: 20.8070040\ttotal: 256ms\tremaining: 875ms\n",
            "226:\tlearn: 20.7227245\ttotal: 257ms\tremaining: 874ms\n",
            "227:\tlearn: 20.6564941\ttotal: 258ms\tremaining: 872ms\n",
            "228:\tlearn: 20.6006850\ttotal: 259ms\tremaining: 870ms\n",
            "229:\tlearn: 20.5117466\ttotal: 259ms\tremaining: 869ms\n",
            "230:\tlearn: 20.4696640\ttotal: 260ms\tremaining: 867ms\n",
            "231:\tlearn: 20.4295632\ttotal: 261ms\tremaining: 865ms\n",
            "232:\tlearn: 20.3127365\ttotal: 262ms\tremaining: 864ms\n",
            "233:\tlearn: 20.2745380\ttotal: 263ms\tremaining: 862ms\n",
            "234:\tlearn: 20.2437206\ttotal: 264ms\tremaining: 861ms\n",
            "235:\tlearn: 20.1356011\ttotal: 265ms\tremaining: 859ms\n",
            "236:\tlearn: 20.0552452\ttotal: 266ms\tremaining: 857ms\n",
            "237:\tlearn: 20.0189709\ttotal: 267ms\tremaining: 856ms\n",
            "238:\tlearn: 19.9790690\ttotal: 268ms\tremaining: 854ms\n",
            "239:\tlearn: 19.9001644\ttotal: 269ms\tremaining: 853ms\n",
            "240:\tlearn: 19.8642244\ttotal: 270ms\tremaining: 851ms\n",
            "241:\tlearn: 19.8516662\ttotal: 271ms\tremaining: 850ms\n",
            "242:\tlearn: 19.7481083\ttotal: 272ms\tremaining: 848ms\n",
            "243:\tlearn: 19.7116743\ttotal: 273ms\tremaining: 846ms\n",
            "244:\tlearn: 19.6782623\ttotal: 274ms\tremaining: 845ms\n",
            "245:\tlearn: 19.6276359\ttotal: 275ms\tremaining: 843ms\n",
            "246:\tlearn: 19.5827791\ttotal: 276ms\tremaining: 842ms\n",
            "247:\tlearn: 19.5436534\ttotal: 277ms\tremaining: 840ms\n",
            "248:\tlearn: 19.4758346\ttotal: 278ms\tremaining: 839ms\n",
            "249:\tlearn: 19.4241610\ttotal: 279ms\tremaining: 837ms\n",
            "250:\tlearn: 19.3917712\ttotal: 280ms\tremaining: 836ms\n",
            "251:\tlearn: 19.3572070\ttotal: 281ms\tremaining: 834ms\n",
            "252:\tlearn: 19.3018200\ttotal: 282ms\tremaining: 833ms\n",
            "253:\tlearn: 19.2187513\ttotal: 284ms\tremaining: 834ms\n",
            "254:\tlearn: 19.1151268\ttotal: 287ms\tremaining: 838ms\n",
            "255:\tlearn: 19.0375572\ttotal: 288ms\tremaining: 838ms\n",
            "256:\tlearn: 19.0104843\ttotal: 289ms\tremaining: 836ms\n",
            "257:\tlearn: 18.9531186\ttotal: 290ms\tremaining: 834ms\n",
            "258:\tlearn: 18.9049236\ttotal: 291ms\tremaining: 833ms\n",
            "259:\tlearn: 18.8291950\ttotal: 292ms\tremaining: 831ms\n",
            "260:\tlearn: 18.8104726\ttotal: 293ms\tremaining: 830ms\n",
            "261:\tlearn: 18.7641859\ttotal: 294ms\tremaining: 828ms\n",
            "262:\tlearn: 18.7337000\ttotal: 295ms\tremaining: 826ms\n",
            "263:\tlearn: 18.6803933\ttotal: 296ms\tremaining: 825ms\n",
            "264:\tlearn: 18.6506648\ttotal: 298ms\tremaining: 827ms\n",
            "265:\tlearn: 18.6236296\ttotal: 299ms\tremaining: 826ms\n",
            "266:\tlearn: 18.5943695\ttotal: 300ms\tremaining: 824ms\n",
            "267:\tlearn: 18.5639753\ttotal: 301ms\tremaining: 823ms\n",
            "268:\tlearn: 18.5257774\ttotal: 302ms\tremaining: 821ms\n",
            "269:\tlearn: 18.4764332\ttotal: 303ms\tremaining: 820ms\n",
            "270:\tlearn: 18.4457324\ttotal: 304ms\tremaining: 818ms\n",
            "271:\tlearn: 18.3641907\ttotal: 305ms\tremaining: 816ms\n",
            "272:\tlearn: 18.3244122\ttotal: 306ms\tremaining: 815ms\n",
            "273:\tlearn: 18.2946023\ttotal: 307ms\tremaining: 813ms\n",
            "274:\tlearn: 18.2710572\ttotal: 308ms\tremaining: 812ms\n",
            "275:\tlearn: 18.2354683\ttotal: 309ms\tremaining: 810ms\n",
            "276:\tlearn: 18.1667253\ttotal: 310ms\tremaining: 809ms\n",
            "277:\tlearn: 18.1379634\ttotal: 311ms\tremaining: 808ms\n",
            "278:\tlearn: 18.1057218\ttotal: 312ms\tremaining: 806ms\n",
            "279:\tlearn: 18.0707760\ttotal: 313ms\tremaining: 805ms\n",
            "280:\tlearn: 18.0497278\ttotal: 314ms\tremaining: 803ms\n",
            "281:\tlearn: 17.9863503\ttotal: 315ms\tremaining: 802ms\n",
            "282:\tlearn: 17.9628303\ttotal: 316ms\tremaining: 800ms\n",
            "283:\tlearn: 17.8803843\ttotal: 317ms\tremaining: 798ms\n",
            "284:\tlearn: 17.8269339\ttotal: 318ms\tremaining: 797ms\n",
            "285:\tlearn: 17.7989430\ttotal: 319ms\tremaining: 796ms\n",
            "286:\tlearn: 17.7427622\ttotal: 320ms\tremaining: 794ms\n",
            "287:\tlearn: 17.6895122\ttotal: 321ms\tremaining: 793ms\n",
            "288:\tlearn: 17.6566373\ttotal: 322ms\tremaining: 791ms\n",
            "289:\tlearn: 17.6322474\ttotal: 324ms\tremaining: 792ms\n",
            "290:\tlearn: 17.5995908\ttotal: 325ms\tremaining: 791ms\n",
            "291:\tlearn: 17.5549578\ttotal: 326ms\tremaining: 789ms\n",
            "292:\tlearn: 17.5005540\ttotal: 327ms\tremaining: 788ms\n",
            "293:\tlearn: 17.4772583\ttotal: 327ms\tremaining: 786ms\n",
            "294:\tlearn: 17.4550446\ttotal: 328ms\tremaining: 785ms\n",
            "295:\tlearn: 17.4295021\ttotal: 329ms\tremaining: 783ms\n",
            "296:\tlearn: 17.4037480\ttotal: 330ms\tremaining: 782ms\n",
            "297:\tlearn: 17.3619315\ttotal: 331ms\tremaining: 780ms\n",
            "298:\tlearn: 17.3529814\ttotal: 334ms\tremaining: 783ms\n",
            "299:\tlearn: 17.3319960\ttotal: 335ms\tremaining: 782ms\n",
            "300:\tlearn: 17.3146143\ttotal: 336ms\tremaining: 780ms\n",
            "301:\tlearn: 17.2895888\ttotal: 337ms\tremaining: 778ms\n",
            "302:\tlearn: 17.2642004\ttotal: 338ms\tremaining: 777ms\n",
            "303:\tlearn: 17.2182864\ttotal: 339ms\tremaining: 775ms\n",
            "304:\tlearn: 17.1985386\ttotal: 340ms\tremaining: 774ms\n",
            "305:\tlearn: 17.1594409\ttotal: 341ms\tremaining: 772ms\n",
            "306:\tlearn: 17.1152318\ttotal: 343ms\tremaining: 774ms\n",
            "307:\tlearn: 17.0884130\ttotal: 346ms\tremaining: 777ms\n",
            "308:\tlearn: 17.0677950\ttotal: 347ms\tremaining: 775ms\n",
            "309:\tlearn: 17.0419378\ttotal: 348ms\tremaining: 774ms\n",
            "310:\tlearn: 17.0196298\ttotal: 349ms\tremaining: 772ms\n",
            "311:\tlearn: 16.9930881\ttotal: 350ms\tremaining: 771ms\n",
            "312:\tlearn: 16.9535752\ttotal: 351ms\tremaining: 769ms\n",
            "313:\tlearn: 16.8961458\ttotal: 352ms\tremaining: 768ms\n",
            "314:\tlearn: 16.8853855\ttotal: 352ms\tremaining: 767ms\n",
            "315:\tlearn: 16.8429161\ttotal: 353ms\tremaining: 765ms\n",
            "316:\tlearn: 16.8240975\ttotal: 354ms\tremaining: 764ms\n",
            "317:\tlearn: 16.7814656\ttotal: 355ms\tremaining: 762ms\n",
            "318:\tlearn: 16.7650939\ttotal: 356ms\tremaining: 761ms\n",
            "319:\tlearn: 16.7322746\ttotal: 357ms\tremaining: 759ms\n",
            "320:\tlearn: 16.7117026\ttotal: 358ms\tremaining: 758ms\n",
            "321:\tlearn: 16.6511289\ttotal: 359ms\tremaining: 756ms\n",
            "322:\tlearn: 16.6035370\ttotal: 360ms\tremaining: 755ms\n",
            "323:\tlearn: 16.5807919\ttotal: 363ms\tremaining: 757ms\n",
            "324:\tlearn: 16.5730583\ttotal: 364ms\tremaining: 757ms\n",
            "325:\tlearn: 16.5573507\ttotal: 366ms\tremaining: 756ms\n",
            "326:\tlearn: 16.5388706\ttotal: 367ms\tremaining: 755ms\n",
            "327:\tlearn: 16.4935619\ttotal: 368ms\tremaining: 753ms\n",
            "328:\tlearn: 16.4345147\ttotal: 369ms\tremaining: 752ms\n",
            "329:\tlearn: 16.4106447\ttotal: 370ms\tremaining: 750ms\n",
            "330:\tlearn: 16.3626405\ttotal: 371ms\tremaining: 749ms\n",
            "331:\tlearn: 16.3429952\ttotal: 372ms\tremaining: 748ms\n",
            "332:\tlearn: 16.3144521\ttotal: 373ms\tremaining: 746ms\n",
            "333:\tlearn: 16.2587243\ttotal: 374ms\tremaining: 745ms\n",
            "334:\tlearn: 16.2101698\ttotal: 376ms\tremaining: 747ms\n",
            "335:\tlearn: 16.1420424\ttotal: 378ms\tremaining: 748ms\n",
            "336:\tlearn: 16.1263717\ttotal: 379ms\tremaining: 746ms\n",
            "337:\tlearn: 16.0758162\ttotal: 380ms\tremaining: 745ms\n",
            "338:\tlearn: 16.0669124\ttotal: 381ms\tremaining: 743ms\n",
            "339:\tlearn: 15.9951550\ttotal: 382ms\tremaining: 742ms\n",
            "340:\tlearn: 15.9761906\ttotal: 383ms\tremaining: 740ms\n",
            "341:\tlearn: 15.9604692\ttotal: 384ms\tremaining: 739ms\n",
            "342:\tlearn: 15.9430582\ttotal: 385ms\tremaining: 737ms\n",
            "343:\tlearn: 15.9276502\ttotal: 386ms\tremaining: 736ms\n",
            "344:\tlearn: 15.8832430\ttotal: 387ms\tremaining: 735ms\n",
            "345:\tlearn: 15.8440657\ttotal: 388ms\tremaining: 733ms\n",
            "346:\tlearn: 15.8075887\ttotal: 389ms\tremaining: 732ms\n",
            "347:\tlearn: 15.7681033\ttotal: 390ms\tremaining: 731ms\n",
            "348:\tlearn: 15.7045001\ttotal: 391ms\tremaining: 729ms\n",
            "349:\tlearn: 15.6658493\ttotal: 392ms\tremaining: 728ms\n",
            "350:\tlearn: 15.6477241\ttotal: 393ms\tremaining: 726ms\n",
            "351:\tlearn: 15.6408118\ttotal: 394ms\tremaining: 725ms\n",
            "352:\tlearn: 15.6090097\ttotal: 395ms\tremaining: 724ms\n",
            "353:\tlearn: 15.5422781\ttotal: 396ms\tremaining: 722ms\n",
            "354:\tlearn: 15.4861872\ttotal: 397ms\tremaining: 721ms\n",
            "355:\tlearn: 15.4492155\ttotal: 398ms\tremaining: 720ms\n",
            "356:\tlearn: 15.4451705\ttotal: 399ms\tremaining: 718ms\n",
            "357:\tlearn: 15.4267102\ttotal: 400ms\tremaining: 717ms\n",
            "358:\tlearn: 15.3990483\ttotal: 401ms\tremaining: 715ms\n",
            "359:\tlearn: 15.3787084\ttotal: 402ms\tremaining: 714ms\n",
            "360:\tlearn: 15.3465051\ttotal: 403ms\tremaining: 713ms\n",
            "361:\tlearn: 15.3385703\ttotal: 404ms\tremaining: 711ms\n",
            "362:\tlearn: 15.3208741\ttotal: 404ms\tremaining: 710ms\n",
            "363:\tlearn: 15.2859137\ttotal: 405ms\tremaining: 708ms\n",
            "364:\tlearn: 15.2721208\ttotal: 406ms\tremaining: 707ms\n",
            "365:\tlearn: 15.2549234\ttotal: 407ms\tremaining: 706ms\n",
            "366:\tlearn: 15.2021130\ttotal: 408ms\tremaining: 704ms\n",
            "367:\tlearn: 15.1810699\ttotal: 409ms\tremaining: 703ms\n",
            "368:\tlearn: 15.1450984\ttotal: 410ms\tremaining: 701ms\n",
            "369:\tlearn: 15.1232683\ttotal: 411ms\tremaining: 700ms\n",
            "370:\tlearn: 15.1065075\ttotal: 412ms\tremaining: 699ms\n",
            "371:\tlearn: 15.0830645\ttotal: 413ms\tremaining: 697ms\n",
            "372:\tlearn: 15.0676338\ttotal: 414ms\tremaining: 696ms\n",
            "373:\tlearn: 15.0515869\ttotal: 415ms\tremaining: 694ms\n",
            "374:\tlearn: 15.0265716\ttotal: 416ms\tremaining: 693ms\n",
            "375:\tlearn: 15.0139646\ttotal: 417ms\tremaining: 692ms\n",
            "376:\tlearn: 14.9809924\ttotal: 418ms\tremaining: 690ms\n",
            "377:\tlearn: 14.9253647\ttotal: 419ms\tremaining: 689ms\n",
            "378:\tlearn: 14.9098064\ttotal: 420ms\tremaining: 688ms\n",
            "379:\tlearn: 14.8785288\ttotal: 421ms\tremaining: 686ms\n",
            "380:\tlearn: 14.8309720\ttotal: 422ms\tremaining: 685ms\n",
            "381:\tlearn: 14.7974872\ttotal: 423ms\tremaining: 684ms\n",
            "382:\tlearn: 14.7793780\ttotal: 424ms\tremaining: 682ms\n",
            "383:\tlearn: 14.7682261\ttotal: 425ms\tremaining: 681ms\n",
            "384:\tlearn: 14.7308376\ttotal: 426ms\tremaining: 680ms\n",
            "385:\tlearn: 14.7239916\ttotal: 426ms\tremaining: 678ms\n",
            "386:\tlearn: 14.7132061\ttotal: 427ms\tremaining: 677ms\n",
            "387:\tlearn: 14.6748725\ttotal: 428ms\tremaining: 676ms\n",
            "388:\tlearn: 14.6146906\ttotal: 429ms\tremaining: 674ms\n",
            "389:\tlearn: 14.5861611\ttotal: 430ms\tremaining: 673ms\n",
            "390:\tlearn: 14.5451919\ttotal: 431ms\tremaining: 672ms\n",
            "391:\tlearn: 14.4993521\ttotal: 432ms\tremaining: 670ms\n",
            "392:\tlearn: 14.4623964\ttotal: 433ms\tremaining: 669ms\n",
            "393:\tlearn: 14.4367258\ttotal: 434ms\tremaining: 668ms\n",
            "394:\tlearn: 14.4292849\ttotal: 435ms\tremaining: 666ms\n",
            "395:\tlearn: 14.3799103\ttotal: 436ms\tremaining: 665ms\n",
            "396:\tlearn: 14.3579709\ttotal: 437ms\tremaining: 664ms\n",
            "397:\tlearn: 14.3471550\ttotal: 438ms\tremaining: 663ms\n",
            "398:\tlearn: 14.3028170\ttotal: 439ms\tremaining: 661ms\n",
            "399:\tlearn: 14.2626921\ttotal: 440ms\tremaining: 660ms\n",
            "400:\tlearn: 14.2488478\ttotal: 441ms\tremaining: 659ms\n",
            "401:\tlearn: 14.2416679\ttotal: 442ms\tremaining: 657ms\n",
            "402:\tlearn: 14.2287839\ttotal: 443ms\tremaining: 656ms\n",
            "403:\tlearn: 14.2183858\ttotal: 444ms\tremaining: 655ms\n",
            "404:\tlearn: 14.1756081\ttotal: 445ms\tremaining: 653ms\n",
            "405:\tlearn: 14.1599991\ttotal: 446ms\tremaining: 652ms\n",
            "406:\tlearn: 14.1421096\ttotal: 447ms\tremaining: 651ms\n",
            "407:\tlearn: 14.0847819\ttotal: 448ms\tremaining: 649ms\n",
            "408:\tlearn: 14.0424140\ttotal: 449ms\tremaining: 648ms\n",
            "409:\tlearn: 14.0332007\ttotal: 450ms\tremaining: 647ms\n",
            "410:\tlearn: 14.0133741\ttotal: 450ms\tremaining: 646ms\n",
            "411:\tlearn: 13.9807621\ttotal: 451ms\tremaining: 644ms\n",
            "412:\tlearn: 13.9644091\ttotal: 452ms\tremaining: 643ms\n",
            "413:\tlearn: 13.9136261\ttotal: 453ms\tremaining: 642ms\n",
            "414:\tlearn: 13.8611158\ttotal: 454ms\tremaining: 640ms\n",
            "415:\tlearn: 13.8512442\ttotal: 455ms\tremaining: 639ms\n",
            "416:\tlearn: 13.8332016\ttotal: 456ms\tremaining: 638ms\n",
            "417:\tlearn: 13.8167420\ttotal: 457ms\tremaining: 636ms\n",
            "418:\tlearn: 13.7818429\ttotal: 458ms\tremaining: 635ms\n",
            "419:\tlearn: 13.7685382\ttotal: 459ms\tremaining: 634ms\n",
            "420:\tlearn: 13.7476101\ttotal: 460ms\tremaining: 633ms\n",
            "421:\tlearn: 13.7296945\ttotal: 461ms\tremaining: 631ms\n",
            "422:\tlearn: 13.7079217\ttotal: 462ms\tremaining: 630ms\n",
            "423:\tlearn: 13.6652575\ttotal: 463ms\tremaining: 629ms\n",
            "424:\tlearn: 13.6223115\ttotal: 464ms\tremaining: 627ms\n",
            "425:\tlearn: 13.5836800\ttotal: 466ms\tremaining: 628ms\n",
            "426:\tlearn: 13.5358910\ttotal: 467ms\tremaining: 627ms\n",
            "427:\tlearn: 13.5019203\ttotal: 468ms\tremaining: 626ms\n",
            "428:\tlearn: 13.4947160\ttotal: 474ms\tremaining: 631ms\n",
            "429:\tlearn: 13.4767022\ttotal: 475ms\tremaining: 630ms\n",
            "430:\tlearn: 13.4685118\ttotal: 477ms\tremaining: 629ms\n",
            "431:\tlearn: 13.4376677\ttotal: 478ms\tremaining: 629ms\n",
            "432:\tlearn: 13.4157851\ttotal: 480ms\tremaining: 628ms\n",
            "433:\tlearn: 13.3919501\ttotal: 481ms\tremaining: 627ms\n",
            "434:\tlearn: 13.3826139\ttotal: 483ms\tremaining: 627ms\n",
            "435:\tlearn: 13.3624815\ttotal: 484ms\tremaining: 626ms\n",
            "436:\tlearn: 13.3463955\ttotal: 485ms\tremaining: 625ms\n",
            "437:\tlearn: 13.3336094\ttotal: 486ms\tremaining: 624ms\n",
            "438:\tlearn: 13.3077780\ttotal: 487ms\tremaining: 623ms\n",
            "439:\tlearn: 13.2862415\ttotal: 488ms\tremaining: 621ms\n",
            "440:\tlearn: 13.2513258\ttotal: 489ms\tremaining: 620ms\n",
            "441:\tlearn: 13.2380306\ttotal: 490ms\tremaining: 619ms\n",
            "442:\tlearn: 13.2229327\ttotal: 491ms\tremaining: 618ms\n",
            "443:\tlearn: 13.2134889\ttotal: 492ms\tremaining: 616ms\n",
            "444:\tlearn: 13.2073156\ttotal: 493ms\tremaining: 615ms\n",
            "445:\tlearn: 13.1822814\ttotal: 494ms\tremaining: 614ms\n",
            "446:\tlearn: 13.1675772\ttotal: 495ms\tremaining: 612ms\n",
            "447:\tlearn: 13.1193808\ttotal: 496ms\tremaining: 611ms\n",
            "448:\tlearn: 13.0928408\ttotal: 497ms\tremaining: 610ms\n",
            "449:\tlearn: 13.0449050\ttotal: 498ms\tremaining: 609ms\n",
            "450:\tlearn: 13.0357784\ttotal: 499ms\tremaining: 607ms\n",
            "451:\tlearn: 13.0004663\ttotal: 500ms\tremaining: 606ms\n",
            "452:\tlearn: 12.9855322\ttotal: 501ms\tremaining: 605ms\n",
            "453:\tlearn: 12.9745890\ttotal: 502ms\tremaining: 604ms\n",
            "454:\tlearn: 12.9599379\ttotal: 503ms\tremaining: 602ms\n",
            "455:\tlearn: 12.9508005\ttotal: 504ms\tremaining: 601ms\n",
            "456:\tlearn: 12.9181653\ttotal: 505ms\tremaining: 600ms\n",
            "457:\tlearn: 12.9117841\ttotal: 506ms\tremaining: 598ms\n",
            "458:\tlearn: 12.8997643\ttotal: 507ms\tremaining: 597ms\n",
            "459:\tlearn: 12.8688324\ttotal: 508ms\tremaining: 596ms\n",
            "460:\tlearn: 12.8514809\ttotal: 509ms\tremaining: 595ms\n",
            "461:\tlearn: 12.8290190\ttotal: 510ms\tremaining: 593ms\n",
            "462:\tlearn: 12.8213030\ttotal: 510ms\tremaining: 592ms\n",
            "463:\tlearn: 12.8130517\ttotal: 511ms\tremaining: 591ms\n",
            "464:\tlearn: 12.7794577\ttotal: 512ms\tremaining: 589ms\n",
            "465:\tlearn: 12.7696453\ttotal: 513ms\tremaining: 588ms\n",
            "466:\tlearn: 12.7478909\ttotal: 514ms\tremaining: 587ms\n",
            "467:\tlearn: 12.7218712\ttotal: 515ms\tremaining: 586ms\n",
            "468:\tlearn: 12.7144903\ttotal: 516ms\tremaining: 584ms\n",
            "469:\tlearn: 12.7031981\ttotal: 518ms\tremaining: 585ms\n",
            "470:\tlearn: 12.6618983\ttotal: 520ms\tremaining: 584ms\n",
            "471:\tlearn: 12.6416581\ttotal: 522ms\tremaining: 584ms\n",
            "472:\tlearn: 12.6220040\ttotal: 523ms\tremaining: 582ms\n",
            "473:\tlearn: 12.6109850\ttotal: 524ms\tremaining: 581ms\n",
            "474:\tlearn: 12.6001529\ttotal: 525ms\tremaining: 580ms\n",
            "475:\tlearn: 12.5757596\ttotal: 526ms\tremaining: 579ms\n",
            "476:\tlearn: 12.5633821\ttotal: 528ms\tremaining: 579ms\n",
            "477:\tlearn: 12.5498109\ttotal: 530ms\tremaining: 579ms\n",
            "478:\tlearn: 12.5428720\ttotal: 531ms\tremaining: 577ms\n",
            "479:\tlearn: 12.5146704\ttotal: 532ms\tremaining: 576ms\n",
            "480:\tlearn: 12.5008466\ttotal: 533ms\tremaining: 575ms\n",
            "481:\tlearn: 12.4824366\ttotal: 534ms\tremaining: 574ms\n",
            "482:\tlearn: 12.4634418\ttotal: 535ms\tremaining: 572ms\n",
            "483:\tlearn: 12.4560649\ttotal: 536ms\tremaining: 571ms\n",
            "484:\tlearn: 12.4281460\ttotal: 537ms\tremaining: 570ms\n",
            "485:\tlearn: 12.4151347\ttotal: 538ms\tremaining: 568ms\n",
            "486:\tlearn: 12.4134495\ttotal: 538ms\tremaining: 567ms\n",
            "487:\tlearn: 12.3924262\ttotal: 539ms\tremaining: 566ms\n",
            "488:\tlearn: 12.3568236\ttotal: 540ms\tremaining: 565ms\n",
            "489:\tlearn: 12.3444846\ttotal: 541ms\tremaining: 563ms\n",
            "490:\tlearn: 12.3426823\ttotal: 542ms\tremaining: 562ms\n",
            "491:\tlearn: 12.3148611\ttotal: 543ms\tremaining: 561ms\n",
            "492:\tlearn: 12.3037726\ttotal: 544ms\tremaining: 560ms\n",
            "493:\tlearn: 12.2913603\ttotal: 545ms\tremaining: 558ms\n",
            "494:\tlearn: 12.2879345\ttotal: 546ms\tremaining: 557ms\n",
            "495:\tlearn: 12.2523898\ttotal: 547ms\tremaining: 556ms\n",
            "496:\tlearn: 12.2329605\ttotal: 550ms\tremaining: 557ms\n",
            "497:\tlearn: 12.2138274\ttotal: 552ms\tremaining: 556ms\n",
            "498:\tlearn: 12.1823727\ttotal: 553ms\tremaining: 556ms\n",
            "499:\tlearn: 12.1760539\ttotal: 554ms\tremaining: 554ms\n",
            "500:\tlearn: 12.1716425\ttotal: 555ms\tremaining: 553ms\n",
            "501:\tlearn: 12.1374946\ttotal: 556ms\tremaining: 552ms\n",
            "502:\tlearn: 12.1159068\ttotal: 557ms\tremaining: 551ms\n",
            "503:\tlearn: 12.0758331\ttotal: 558ms\tremaining: 550ms\n",
            "504:\tlearn: 12.0447858\ttotal: 559ms\tremaining: 548ms\n",
            "505:\tlearn: 12.0388484\ttotal: 562ms\tremaining: 549ms\n",
            "506:\tlearn: 12.0284257\ttotal: 564ms\tremaining: 548ms\n",
            "507:\tlearn: 12.0188843\ttotal: 573ms\tremaining: 555ms\n",
            "508:\tlearn: 11.9857462\ttotal: 574ms\tremaining: 553ms\n",
            "509:\tlearn: 11.9656449\ttotal: 575ms\tremaining: 552ms\n",
            "510:\tlearn: 11.9494563\ttotal: 576ms\tremaining: 551ms\n",
            "511:\tlearn: 11.9428355\ttotal: 577ms\tremaining: 550ms\n",
            "512:\tlearn: 11.9216346\ttotal: 578ms\tremaining: 549ms\n",
            "513:\tlearn: 11.9082911\ttotal: 579ms\tremaining: 548ms\n",
            "514:\tlearn: 11.8981402\ttotal: 580ms\tremaining: 546ms\n",
            "515:\tlearn: 11.8806120\ttotal: 581ms\tremaining: 545ms\n",
            "516:\tlearn: 11.8510509\ttotal: 582ms\tremaining: 544ms\n",
            "517:\tlearn: 11.8255848\ttotal: 585ms\tremaining: 544ms\n",
            "518:\tlearn: 11.8178616\ttotal: 586ms\tremaining: 543ms\n",
            "519:\tlearn: 11.7918478\ttotal: 587ms\tremaining: 542ms\n",
            "520:\tlearn: 11.7804719\ttotal: 588ms\tremaining: 541ms\n",
            "521:\tlearn: 11.7445773\ttotal: 589ms\tremaining: 539ms\n",
            "522:\tlearn: 11.7304340\ttotal: 590ms\tremaining: 538ms\n",
            "523:\tlearn: 11.7120023\ttotal: 591ms\tremaining: 537ms\n",
            "524:\tlearn: 11.6827752\ttotal: 592ms\tremaining: 536ms\n",
            "525:\tlearn: 11.6816954\ttotal: 593ms\tremaining: 534ms\n",
            "526:\tlearn: 11.6688510\ttotal: 594ms\tremaining: 533ms\n",
            "527:\tlearn: 11.6475182\ttotal: 595ms\tremaining: 532ms\n",
            "528:\tlearn: 11.6209542\ttotal: 596ms\tremaining: 531ms\n",
            "529:\tlearn: 11.6032705\ttotal: 597ms\tremaining: 529ms\n",
            "530:\tlearn: 11.5721314\ttotal: 598ms\tremaining: 528ms\n",
            "531:\tlearn: 11.5414080\ttotal: 599ms\tremaining: 527ms\n",
            "532:\tlearn: 11.5208302\ttotal: 600ms\tremaining: 525ms\n",
            "533:\tlearn: 11.5045514\ttotal: 601ms\tremaining: 524ms\n",
            "534:\tlearn: 11.4894010\ttotal: 602ms\tremaining: 524ms\n",
            "535:\tlearn: 11.4630173\ttotal: 604ms\tremaining: 522ms\n",
            "536:\tlearn: 11.4285442\ttotal: 605ms\tremaining: 521ms\n",
            "537:\tlearn: 11.3963837\ttotal: 606ms\tremaining: 520ms\n",
            "538:\tlearn: 11.3816830\ttotal: 606ms\tremaining: 519ms\n",
            "539:\tlearn: 11.3534094\ttotal: 607ms\tremaining: 517ms\n",
            "540:\tlearn: 11.3377882\ttotal: 608ms\tremaining: 516ms\n",
            "541:\tlearn: 11.3208178\ttotal: 609ms\tremaining: 515ms\n",
            "542:\tlearn: 11.3043403\ttotal: 610ms\tremaining: 514ms\n",
            "543:\tlearn: 11.2752994\ttotal: 611ms\tremaining: 512ms\n",
            "544:\tlearn: 11.2725331\ttotal: 612ms\tremaining: 511ms\n",
            "545:\tlearn: 11.2628743\ttotal: 613ms\tremaining: 510ms\n",
            "546:\tlearn: 11.2340684\ttotal: 614ms\tremaining: 509ms\n",
            "547:\tlearn: 11.2238461\ttotal: 615ms\tremaining: 507ms\n",
            "548:\tlearn: 11.2042092\ttotal: 616ms\tremaining: 506ms\n",
            "549:\tlearn: 11.1863862\ttotal: 617ms\tremaining: 505ms\n",
            "550:\tlearn: 11.1739807\ttotal: 618ms\tremaining: 504ms\n",
            "551:\tlearn: 11.1724589\ttotal: 619ms\tremaining: 502ms\n",
            "552:\tlearn: 11.1532268\ttotal: 620ms\tremaining: 501ms\n",
            "553:\tlearn: 11.1496882\ttotal: 621ms\tremaining: 500ms\n",
            "554:\tlearn: 11.1249108\ttotal: 623ms\tremaining: 499ms\n",
            "555:\tlearn: 11.1168002\ttotal: 624ms\tremaining: 498ms\n",
            "556:\tlearn: 11.0904297\ttotal: 625ms\tremaining: 497ms\n",
            "557:\tlearn: 11.0704328\ttotal: 626ms\tremaining: 496ms\n",
            "558:\tlearn: 11.0637332\ttotal: 627ms\tremaining: 494ms\n",
            "559:\tlearn: 11.0538607\ttotal: 628ms\tremaining: 493ms\n",
            "560:\tlearn: 11.0325970\ttotal: 629ms\tremaining: 492ms\n",
            "561:\tlearn: 11.0173845\ttotal: 630ms\tremaining: 491ms\n",
            "562:\tlearn: 11.0088097\ttotal: 631ms\tremaining: 489ms\n",
            "563:\tlearn: 10.9932673\ttotal: 632ms\tremaining: 488ms\n",
            "564:\tlearn: 10.9714802\ttotal: 633ms\tremaining: 487ms\n",
            "565:\tlearn: 10.9492581\ttotal: 634ms\tremaining: 486ms\n",
            "566:\tlearn: 10.9413189\ttotal: 635ms\tremaining: 485ms\n",
            "567:\tlearn: 10.9296755\ttotal: 635ms\tremaining: 483ms\n",
            "568:\tlearn: 10.9275276\ttotal: 637ms\tremaining: 482ms\n",
            "569:\tlearn: 10.9055743\ttotal: 638ms\tremaining: 481ms\n",
            "570:\tlearn: 10.8907405\ttotal: 639ms\tremaining: 480ms\n",
            "571:\tlearn: 10.8825005\ttotal: 640ms\tremaining: 479ms\n",
            "572:\tlearn: 10.8632460\ttotal: 640ms\tremaining: 477ms\n",
            "573:\tlearn: 10.8500391\ttotal: 641ms\tremaining: 476ms\n",
            "574:\tlearn: 10.8268183\ttotal: 642ms\tremaining: 475ms\n",
            "575:\tlearn: 10.8137712\ttotal: 643ms\tremaining: 474ms\n",
            "576:\tlearn: 10.8070000\ttotal: 644ms\tremaining: 472ms\n",
            "577:\tlearn: 10.7989338\ttotal: 645ms\tremaining: 471ms\n",
            "578:\tlearn: 10.7892113\ttotal: 646ms\tremaining: 470ms\n",
            "579:\tlearn: 10.7691463\ttotal: 647ms\tremaining: 469ms\n",
            "580:\tlearn: 10.7622083\ttotal: 648ms\tremaining: 468ms\n",
            "581:\tlearn: 10.7558970\ttotal: 649ms\tremaining: 466ms\n",
            "582:\tlearn: 10.7550711\ttotal: 650ms\tremaining: 465ms\n",
            "583:\tlearn: 10.7259094\ttotal: 651ms\tremaining: 464ms\n",
            "584:\tlearn: 10.7183681\ttotal: 652ms\tremaining: 463ms\n",
            "585:\tlearn: 10.7052752\ttotal: 653ms\tremaining: 461ms\n",
            "586:\tlearn: 10.6853223\ttotal: 654ms\tremaining: 460ms\n",
            "587:\tlearn: 10.6664767\ttotal: 655ms\tremaining: 459ms\n",
            "588:\tlearn: 10.6608423\ttotal: 659ms\tremaining: 460ms\n",
            "589:\tlearn: 10.6581800\ttotal: 662ms\tremaining: 460ms\n",
            "590:\tlearn: 10.6470527\ttotal: 663ms\tremaining: 459ms\n",
            "591:\tlearn: 10.6385047\ttotal: 667ms\tremaining: 460ms\n",
            "592:\tlearn: 10.6166187\ttotal: 668ms\tremaining: 459ms\n",
            "593:\tlearn: 10.6145917\ttotal: 669ms\tremaining: 457ms\n",
            "594:\tlearn: 10.5947140\ttotal: 670ms\tremaining: 456ms\n",
            "595:\tlearn: 10.5748616\ttotal: 671ms\tremaining: 455ms\n",
            "596:\tlearn: 10.5722812\ttotal: 672ms\tremaining: 454ms\n",
            "597:\tlearn: 10.5583028\ttotal: 673ms\tremaining: 452ms\n",
            "598:\tlearn: 10.5531733\ttotal: 674ms\tremaining: 451ms\n",
            "599:\tlearn: 10.5521962\ttotal: 675ms\tremaining: 450ms\n",
            "600:\tlearn: 10.5399422\ttotal: 676ms\tremaining: 449ms\n",
            "601:\tlearn: 10.5231002\ttotal: 677ms\tremaining: 447ms\n",
            "602:\tlearn: 10.5175652\ttotal: 678ms\tremaining: 446ms\n",
            "603:\tlearn: 10.5099138\ttotal: 679ms\tremaining: 445ms\n",
            "604:\tlearn: 10.5020257\ttotal: 680ms\tremaining: 444ms\n",
            "605:\tlearn: 10.4974516\ttotal: 681ms\tremaining: 443ms\n",
            "606:\tlearn: 10.4812707\ttotal: 682ms\tremaining: 441ms\n",
            "607:\tlearn: 10.4579143\ttotal: 683ms\tremaining: 440ms\n",
            "608:\tlearn: 10.4485983\ttotal: 684ms\tremaining: 439ms\n",
            "609:\tlearn: 10.4434579\ttotal: 684ms\tremaining: 438ms\n",
            "610:\tlearn: 10.4303908\ttotal: 685ms\tremaining: 436ms\n",
            "611:\tlearn: 10.4188991\ttotal: 686ms\tremaining: 435ms\n",
            "612:\tlearn: 10.4133215\ttotal: 687ms\tremaining: 434ms\n",
            "613:\tlearn: 10.3998075\ttotal: 688ms\tremaining: 433ms\n",
            "614:\tlearn: 10.3893920\ttotal: 689ms\tremaining: 432ms\n",
            "615:\tlearn: 10.3886037\ttotal: 690ms\tremaining: 430ms\n",
            "616:\tlearn: 10.3878829\ttotal: 691ms\tremaining: 429ms\n",
            "617:\tlearn: 10.3787887\ttotal: 692ms\tremaining: 428ms\n",
            "618:\tlearn: 10.3694506\ttotal: 693ms\tremaining: 427ms\n",
            "619:\tlearn: 10.3543033\ttotal: 694ms\tremaining: 425ms\n",
            "620:\tlearn: 10.3379720\ttotal: 695ms\tremaining: 424ms\n",
            "621:\tlearn: 10.3147953\ttotal: 696ms\tremaining: 423ms\n",
            "622:\tlearn: 10.2927833\ttotal: 697ms\tremaining: 422ms\n",
            "623:\tlearn: 10.2879784\ttotal: 698ms\tremaining: 421ms\n",
            "624:\tlearn: 10.2699492\ttotal: 699ms\tremaining: 419ms\n",
            "625:\tlearn: 10.2611913\ttotal: 700ms\tremaining: 418ms\n",
            "626:\tlearn: 10.2525921\ttotal: 701ms\tremaining: 417ms\n",
            "627:\tlearn: 10.2517472\ttotal: 702ms\tremaining: 416ms\n",
            "628:\tlearn: 10.2431369\ttotal: 705ms\tremaining: 416ms\n",
            "629:\tlearn: 10.2286845\ttotal: 706ms\tremaining: 415ms\n",
            "630:\tlearn: 10.2153191\ttotal: 707ms\tremaining: 413ms\n",
            "631:\tlearn: 10.1998286\ttotal: 708ms\tremaining: 412ms\n",
            "632:\tlearn: 10.1952469\ttotal: 710ms\tremaining: 412ms\n",
            "633:\tlearn: 10.1709387\ttotal: 712ms\tremaining: 411ms\n",
            "634:\tlearn: 10.1393596\ttotal: 713ms\tremaining: 410ms\n",
            "635:\tlearn: 10.1345139\ttotal: 714ms\tremaining: 409ms\n",
            "636:\tlearn: 10.1291364\ttotal: 715ms\tremaining: 407ms\n",
            "637:\tlearn: 10.0927357\ttotal: 716ms\tremaining: 406ms\n",
            "638:\tlearn: 10.0890733\ttotal: 717ms\tremaining: 405ms\n",
            "639:\tlearn: 10.0709151\ttotal: 718ms\tremaining: 404ms\n",
            "640:\tlearn: 10.0384176\ttotal: 719ms\tremaining: 402ms\n",
            "641:\tlearn: 10.0376011\ttotal: 720ms\tremaining: 401ms\n",
            "642:\tlearn: 10.0317999\ttotal: 720ms\tremaining: 400ms\n",
            "643:\tlearn: 10.0154815\ttotal: 721ms\tremaining: 399ms\n",
            "644:\tlearn: 9.9989675\ttotal: 722ms\tremaining: 398ms\n",
            "645:\tlearn: 9.9947409\ttotal: 723ms\tremaining: 396ms\n",
            "646:\tlearn: 9.9882214\ttotal: 724ms\tremaining: 395ms\n",
            "647:\tlearn: 9.9714936\ttotal: 725ms\tremaining: 394ms\n",
            "648:\tlearn: 9.9525384\ttotal: 726ms\tremaining: 393ms\n",
            "649:\tlearn: 9.9387469\ttotal: 727ms\tremaining: 392ms\n",
            "650:\tlearn: 9.9322918\ttotal: 728ms\tremaining: 390ms\n",
            "651:\tlearn: 9.9278742\ttotal: 729ms\tremaining: 389ms\n",
            "652:\tlearn: 9.9088825\ttotal: 730ms\tremaining: 388ms\n",
            "653:\tlearn: 9.8895380\ttotal: 731ms\tremaining: 387ms\n",
            "654:\tlearn: 9.8789309\ttotal: 735ms\tremaining: 387ms\n",
            "655:\tlearn: 9.8748962\ttotal: 736ms\tremaining: 386ms\n",
            "656:\tlearn: 9.8710552\ttotal: 737ms\tremaining: 385ms\n",
            "657:\tlearn: 9.8703049\ttotal: 738ms\tremaining: 384ms\n",
            "658:\tlearn: 9.8626432\ttotal: 739ms\tremaining: 383ms\n",
            "659:\tlearn: 9.8467402\ttotal: 740ms\tremaining: 381ms\n",
            "660:\tlearn: 9.8197147\ttotal: 747ms\tremaining: 383ms\n",
            "661:\tlearn: 9.8062928\ttotal: 748ms\tremaining: 382ms\n",
            "662:\tlearn: 9.7974947\ttotal: 750ms\tremaining: 381ms\n",
            "663:\tlearn: 9.7827766\ttotal: 752ms\tremaining: 380ms\n",
            "664:\tlearn: 9.7674253\ttotal: 754ms\tremaining: 380ms\n",
            "665:\tlearn: 9.7589162\ttotal: 756ms\tremaining: 379ms\n",
            "666:\tlearn: 9.7452087\ttotal: 758ms\tremaining: 378ms\n",
            "667:\tlearn: 9.7238467\ttotal: 758ms\tremaining: 377ms\n",
            "668:\tlearn: 9.6946724\ttotal: 759ms\tremaining: 376ms\n",
            "669:\tlearn: 9.6886840\ttotal: 760ms\tremaining: 375ms\n",
            "670:\tlearn: 9.6717055\ttotal: 761ms\tremaining: 373ms\n",
            "671:\tlearn: 9.6675255\ttotal: 762ms\tremaining: 372ms\n",
            "672:\tlearn: 9.6454657\ttotal: 763ms\tremaining: 371ms\n",
            "673:\tlearn: 9.6404225\ttotal: 764ms\tremaining: 370ms\n",
            "674:\tlearn: 9.6364741\ttotal: 765ms\tremaining: 368ms\n",
            "675:\tlearn: 9.6315776\ttotal: 766ms\tremaining: 367ms\n",
            "676:\tlearn: 9.6263787\ttotal: 767ms\tremaining: 366ms\n",
            "677:\tlearn: 9.6173955\ttotal: 768ms\tremaining: 365ms\n",
            "678:\tlearn: 9.5898664\ttotal: 769ms\tremaining: 364ms\n",
            "679:\tlearn: 9.5890741\ttotal: 770ms\tremaining: 362ms\n",
            "680:\tlearn: 9.5842442\ttotal: 771ms\tremaining: 361ms\n",
            "681:\tlearn: 9.5797505\ttotal: 772ms\tremaining: 360ms\n",
            "682:\tlearn: 9.5703522\ttotal: 773ms\tremaining: 359ms\n",
            "683:\tlearn: 9.5547918\ttotal: 774ms\tremaining: 357ms\n",
            "684:\tlearn: 9.5397860\ttotal: 775ms\tremaining: 356ms\n",
            "685:\tlearn: 9.5098468\ttotal: 776ms\tremaining: 355ms\n",
            "686:\tlearn: 9.5052220\ttotal: 777ms\tremaining: 354ms\n",
            "687:\tlearn: 9.5045042\ttotal: 778ms\tremaining: 353ms\n",
            "688:\tlearn: 9.4963819\ttotal: 779ms\tremaining: 351ms\n",
            "689:\tlearn: 9.4828005\ttotal: 780ms\tremaining: 350ms\n",
            "690:\tlearn: 9.4747656\ttotal: 780ms\tremaining: 349ms\n",
            "691:\tlearn: 9.4704257\ttotal: 781ms\tremaining: 348ms\n",
            "692:\tlearn: 9.4493669\ttotal: 782ms\tremaining: 347ms\n",
            "693:\tlearn: 9.4350740\ttotal: 783ms\tremaining: 345ms\n",
            "694:\tlearn: 9.4133088\ttotal: 784ms\tremaining: 344ms\n",
            "695:\tlearn: 9.3986846\ttotal: 785ms\tremaining: 343ms\n",
            "696:\tlearn: 9.3877699\ttotal: 786ms\tremaining: 342ms\n",
            "697:\tlearn: 9.3798712\ttotal: 787ms\tremaining: 341ms\n",
            "698:\tlearn: 9.3566757\ttotal: 788ms\tremaining: 339ms\n",
            "699:\tlearn: 9.3444181\ttotal: 789ms\tremaining: 338ms\n",
            "700:\tlearn: 9.3363582\ttotal: 790ms\tremaining: 337ms\n",
            "701:\tlearn: 9.3195644\ttotal: 791ms\tremaining: 336ms\n",
            "702:\tlearn: 9.2964194\ttotal: 792ms\tremaining: 335ms\n",
            "703:\tlearn: 9.2887445\ttotal: 793ms\tremaining: 333ms\n",
            "704:\tlearn: 9.2838511\ttotal: 794ms\tremaining: 332ms\n",
            "705:\tlearn: 9.2713046\ttotal: 796ms\tremaining: 331ms\n",
            "706:\tlearn: 9.2686924\ttotal: 797ms\tremaining: 330ms\n",
            "707:\tlearn: 9.2555757\ttotal: 799ms\tremaining: 329ms\n",
            "708:\tlearn: 9.2550522\ttotal: 806ms\tremaining: 331ms\n",
            "709:\tlearn: 9.2346485\ttotal: 807ms\tremaining: 330ms\n",
            "710:\tlearn: 9.2151453\ttotal: 808ms\tremaining: 329ms\n",
            "711:\tlearn: 9.2100996\ttotal: 809ms\tremaining: 327ms\n",
            "712:\tlearn: 9.2022857\ttotal: 810ms\tremaining: 326ms\n",
            "713:\tlearn: 9.1982058\ttotal: 811ms\tremaining: 325ms\n",
            "714:\tlearn: 9.1855744\ttotal: 812ms\tremaining: 324ms\n",
            "715:\tlearn: 9.1814357\ttotal: 813ms\tremaining: 323ms\n",
            "716:\tlearn: 9.1787982\ttotal: 814ms\tremaining: 321ms\n",
            "717:\tlearn: 9.1694660\ttotal: 815ms\tremaining: 320ms\n",
            "718:\tlearn: 9.1651852\ttotal: 816ms\tremaining: 319ms\n",
            "719:\tlearn: 9.1644688\ttotal: 817ms\tremaining: 318ms\n",
            "720:\tlearn: 9.1462800\ttotal: 818ms\tremaining: 317ms\n",
            "721:\tlearn: 9.1238568\ttotal: 819ms\tremaining: 315ms\n",
            "722:\tlearn: 9.1115905\ttotal: 820ms\tremaining: 314ms\n",
            "723:\tlearn: 9.0969622\ttotal: 821ms\tremaining: 313ms\n",
            "724:\tlearn: 9.0738427\ttotal: 822ms\tremaining: 312ms\n",
            "725:\tlearn: 9.0554129\ttotal: 823ms\tremaining: 311ms\n",
            "726:\tlearn: 9.0480876\ttotal: 824ms\tremaining: 309ms\n",
            "727:\tlearn: 9.0474886\ttotal: 825ms\tremaining: 308ms\n",
            "728:\tlearn: 9.0413682\ttotal: 826ms\tremaining: 307ms\n",
            "729:\tlearn: 9.0387312\ttotal: 827ms\tremaining: 306ms\n",
            "730:\tlearn: 9.0208885\ttotal: 828ms\tremaining: 305ms\n",
            "731:\tlearn: 9.0122290\ttotal: 829ms\tremaining: 303ms\n",
            "732:\tlearn: 9.0037089\ttotal: 830ms\tremaining: 302ms\n",
            "733:\tlearn: 8.9875578\ttotal: 836ms\tremaining: 303ms\n",
            "734:\tlearn: 8.9689307\ttotal: 838ms\tremaining: 302ms\n",
            "735:\tlearn: 8.9682891\ttotal: 841ms\tremaining: 302ms\n",
            "736:\tlearn: 8.9516740\ttotal: 842ms\tremaining: 300ms\n",
            "737:\tlearn: 8.9306683\ttotal: 843ms\tremaining: 299ms\n",
            "738:\tlearn: 8.9258337\ttotal: 844ms\tremaining: 298ms\n",
            "739:\tlearn: 8.9173890\ttotal: 845ms\tremaining: 297ms\n",
            "740:\tlearn: 8.8949400\ttotal: 846ms\tremaining: 296ms\n",
            "741:\tlearn: 8.8927256\ttotal: 848ms\tremaining: 295ms\n",
            "742:\tlearn: 8.8779749\ttotal: 849ms\tremaining: 294ms\n",
            "743:\tlearn: 8.8599311\ttotal: 850ms\tremaining: 292ms\n",
            "744:\tlearn: 8.8361818\ttotal: 850ms\tremaining: 291ms\n",
            "745:\tlearn: 8.8205927\ttotal: 851ms\tremaining: 290ms\n",
            "746:\tlearn: 8.8153478\ttotal: 852ms\tremaining: 289ms\n",
            "747:\tlearn: 8.8029367\ttotal: 853ms\tremaining: 288ms\n",
            "748:\tlearn: 8.7985313\ttotal: 854ms\tremaining: 286ms\n",
            "749:\tlearn: 8.7864948\ttotal: 855ms\tremaining: 285ms\n",
            "750:\tlearn: 8.7699725\ttotal: 856ms\tremaining: 284ms\n",
            "751:\tlearn: 8.7624161\ttotal: 857ms\tremaining: 283ms\n",
            "752:\tlearn: 8.7469423\ttotal: 858ms\tremaining: 282ms\n",
            "753:\tlearn: 8.7321444\ttotal: 859ms\tremaining: 280ms\n",
            "754:\tlearn: 8.7181489\ttotal: 861ms\tremaining: 279ms\n",
            "755:\tlearn: 8.6938036\ttotal: 863ms\tremaining: 278ms\n",
            "756:\tlearn: 8.6723783\ttotal: 865ms\tremaining: 278ms\n",
            "757:\tlearn: 8.6678418\ttotal: 867ms\tremaining: 277ms\n",
            "758:\tlearn: 8.6564457\ttotal: 869ms\tremaining: 276ms\n",
            "759:\tlearn: 8.6521370\ttotal: 871ms\tremaining: 275ms\n",
            "760:\tlearn: 8.6299903\ttotal: 873ms\tremaining: 274ms\n",
            "761:\tlearn: 8.6276557\ttotal: 874ms\tremaining: 273ms\n",
            "762:\tlearn: 8.6247375\ttotal: 876ms\tremaining: 272ms\n",
            "763:\tlearn: 8.6174963\ttotal: 877ms\tremaining: 271ms\n",
            "764:\tlearn: 8.6034254\ttotal: 877ms\tremaining: 270ms\n",
            "765:\tlearn: 8.5770029\ttotal: 878ms\tremaining: 268ms\n",
            "766:\tlearn: 8.5764480\ttotal: 881ms\tremaining: 268ms\n",
            "767:\tlearn: 8.5729685\ttotal: 883ms\tremaining: 267ms\n",
            "768:\tlearn: 8.5516691\ttotal: 885ms\tremaining: 266ms\n",
            "769:\tlearn: 8.5488693\ttotal: 886ms\tremaining: 265ms\n",
            "770:\tlearn: 8.5405131\ttotal: 887ms\tremaining: 264ms\n",
            "771:\tlearn: 8.5286163\ttotal: 890ms\tremaining: 263ms\n",
            "772:\tlearn: 8.5178460\ttotal: 892ms\tremaining: 262ms\n",
            "773:\tlearn: 8.5173323\ttotal: 893ms\tremaining: 261ms\n",
            "774:\tlearn: 8.4953181\ttotal: 894ms\tremaining: 259ms\n",
            "775:\tlearn: 8.4946797\ttotal: 895ms\tremaining: 258ms\n",
            "776:\tlearn: 8.4914686\ttotal: 896ms\tremaining: 257ms\n",
            "777:\tlearn: 8.4714332\ttotal: 897ms\tremaining: 256ms\n",
            "778:\tlearn: 8.4584876\ttotal: 898ms\tremaining: 255ms\n",
            "779:\tlearn: 8.4549541\ttotal: 899ms\tremaining: 253ms\n",
            "780:\tlearn: 8.4518424\ttotal: 900ms\tremaining: 252ms\n",
            "781:\tlearn: 8.4434353\ttotal: 901ms\tremaining: 251ms\n",
            "782:\tlearn: 8.4255870\ttotal: 902ms\tremaining: 250ms\n",
            "783:\tlearn: 8.4105830\ttotal: 902ms\tremaining: 249ms\n",
            "784:\tlearn: 8.3968939\ttotal: 903ms\tremaining: 247ms\n",
            "785:\tlearn: 8.3860013\ttotal: 904ms\tremaining: 246ms\n",
            "786:\tlearn: 8.3709746\ttotal: 905ms\tremaining: 245ms\n",
            "787:\tlearn: 8.3524789\ttotal: 906ms\tremaining: 244ms\n",
            "788:\tlearn: 8.3412637\ttotal: 907ms\tremaining: 243ms\n",
            "789:\tlearn: 8.3340897\ttotal: 908ms\tremaining: 241ms\n",
            "790:\tlearn: 8.3332782\ttotal: 909ms\tremaining: 240ms\n",
            "791:\tlearn: 8.3279162\ttotal: 910ms\tremaining: 239ms\n",
            "792:\tlearn: 8.3096452\ttotal: 911ms\tremaining: 238ms\n",
            "793:\tlearn: 8.3053599\ttotal: 912ms\tremaining: 237ms\n",
            "794:\tlearn: 8.3048003\ttotal: 914ms\tremaining: 236ms\n",
            "795:\tlearn: 8.2878691\ttotal: 916ms\tremaining: 235ms\n",
            "796:\tlearn: 8.2850624\ttotal: 918ms\tremaining: 234ms\n",
            "797:\tlearn: 8.2743031\ttotal: 919ms\tremaining: 233ms\n",
            "798:\tlearn: 8.2707167\ttotal: 920ms\tremaining: 231ms\n",
            "799:\tlearn: 8.2665704\ttotal: 921ms\tremaining: 230ms\n",
            "800:\tlearn: 8.2598785\ttotal: 922ms\tremaining: 229ms\n",
            "801:\tlearn: 8.2335094\ttotal: 923ms\tremaining: 228ms\n",
            "802:\tlearn: 8.2166280\ttotal: 923ms\tremaining: 227ms\n",
            "803:\tlearn: 8.2071376\ttotal: 924ms\tremaining: 225ms\n",
            "804:\tlearn: 8.1964896\ttotal: 925ms\tremaining: 224ms\n",
            "805:\tlearn: 8.1886474\ttotal: 926ms\tremaining: 223ms\n",
            "806:\tlearn: 8.1651582\ttotal: 929ms\tremaining: 222ms\n",
            "807:\tlearn: 8.1645860\ttotal: 930ms\tremaining: 221ms\n",
            "808:\tlearn: 8.1510798\ttotal: 932ms\tremaining: 220ms\n",
            "809:\tlearn: 8.1384659\ttotal: 933ms\tremaining: 219ms\n",
            "810:\tlearn: 8.1164262\ttotal: 934ms\tremaining: 218ms\n",
            "811:\tlearn: 8.0978425\ttotal: 934ms\tremaining: 216ms\n",
            "812:\tlearn: 8.0956624\ttotal: 935ms\tremaining: 215ms\n",
            "813:\tlearn: 8.0927187\ttotal: 936ms\tremaining: 214ms\n",
            "814:\tlearn: 8.0836462\ttotal: 937ms\tremaining: 213ms\n",
            "815:\tlearn: 8.0831773\ttotal: 938ms\tremaining: 212ms\n",
            "816:\tlearn: 8.0741306\ttotal: 939ms\tremaining: 210ms\n",
            "817:\tlearn: 8.0583089\ttotal: 940ms\tremaining: 209ms\n",
            "818:\tlearn: 8.0530785\ttotal: 941ms\tremaining: 208ms\n",
            "819:\tlearn: 8.0465698\ttotal: 942ms\tremaining: 207ms\n",
            "820:\tlearn: 8.0324807\ttotal: 943ms\tremaining: 206ms\n",
            "821:\tlearn: 8.0241329\ttotal: 944ms\tremaining: 204ms\n",
            "822:\tlearn: 8.0179247\ttotal: 945ms\tremaining: 203ms\n",
            "823:\tlearn: 8.0147032\ttotal: 946ms\tremaining: 202ms\n",
            "824:\tlearn: 7.9983090\ttotal: 947ms\tremaining: 201ms\n",
            "825:\tlearn: 7.9903163\ttotal: 948ms\tremaining: 200ms\n",
            "826:\tlearn: 7.9764830\ttotal: 949ms\tremaining: 198ms\n",
            "827:\tlearn: 7.9732782\ttotal: 950ms\tremaining: 197ms\n",
            "828:\tlearn: 7.9533964\ttotal: 951ms\tremaining: 196ms\n",
            "829:\tlearn: 7.9528279\ttotal: 952ms\tremaining: 195ms\n",
            "830:\tlearn: 7.9417952\ttotal: 953ms\tremaining: 194ms\n",
            "831:\tlearn: 7.9381644\ttotal: 954ms\tremaining: 193ms\n",
            "832:\tlearn: 7.9309644\ttotal: 955ms\tremaining: 191ms\n",
            "833:\tlearn: 7.9269805\ttotal: 955ms\tremaining: 190ms\n",
            "834:\tlearn: 7.9098666\ttotal: 956ms\tremaining: 189ms\n",
            "835:\tlearn: 7.8916354\ttotal: 957ms\tremaining: 188ms\n",
            "836:\tlearn: 7.8790614\ttotal: 958ms\tremaining: 187ms\n",
            "837:\tlearn: 7.8761692\ttotal: 959ms\tremaining: 185ms\n",
            "838:\tlearn: 7.8484178\ttotal: 960ms\tremaining: 184ms\n",
            "839:\tlearn: 7.8464411\ttotal: 961ms\tremaining: 183ms\n",
            "840:\tlearn: 7.8343275\ttotal: 962ms\tremaining: 182ms\n",
            "841:\tlearn: 7.8278540\ttotal: 963ms\tremaining: 181ms\n",
            "842:\tlearn: 7.8217595\ttotal: 964ms\tremaining: 180ms\n",
            "843:\tlearn: 7.8191356\ttotal: 965ms\tremaining: 178ms\n",
            "844:\tlearn: 7.8006506\ttotal: 966ms\tremaining: 177ms\n",
            "845:\tlearn: 7.8001289\ttotal: 967ms\tremaining: 176ms\n",
            "846:\tlearn: 7.7831708\ttotal: 968ms\tremaining: 175ms\n",
            "847:\tlearn: 7.7749192\ttotal: 969ms\tremaining: 174ms\n",
            "848:\tlearn: 7.7646583\ttotal: 970ms\tremaining: 172ms\n",
            "849:\tlearn: 7.7568759\ttotal: 971ms\tremaining: 171ms\n",
            "850:\tlearn: 7.7532728\ttotal: 972ms\tremaining: 170ms\n",
            "851:\tlearn: 7.7474795\ttotal: 972ms\tremaining: 169ms\n",
            "852:\tlearn: 7.7375698\ttotal: 973ms\tremaining: 168ms\n",
            "853:\tlearn: 7.7345978\ttotal: 974ms\tremaining: 167ms\n",
            "854:\tlearn: 7.7246588\ttotal: 975ms\tremaining: 165ms\n",
            "855:\tlearn: 7.7227948\ttotal: 976ms\tremaining: 164ms\n",
            "856:\tlearn: 7.7195343\ttotal: 977ms\tremaining: 163ms\n",
            "857:\tlearn: 7.7099059\ttotal: 978ms\tremaining: 162ms\n",
            "858:\tlearn: 7.7069754\ttotal: 979ms\tremaining: 161ms\n",
            "859:\tlearn: 7.6964543\ttotal: 980ms\tremaining: 160ms\n",
            "860:\tlearn: 7.6937882\ttotal: 981ms\tremaining: 158ms\n",
            "861:\tlearn: 7.6873277\ttotal: 982ms\tremaining: 157ms\n",
            "862:\tlearn: 7.6681294\ttotal: 983ms\tremaining: 156ms\n",
            "863:\tlearn: 7.6659340\ttotal: 984ms\tremaining: 155ms\n",
            "864:\tlearn: 7.6537588\ttotal: 985ms\tremaining: 154ms\n",
            "865:\tlearn: 7.6351796\ttotal: 986ms\tremaining: 153ms\n",
            "866:\tlearn: 7.6297682\ttotal: 987ms\tremaining: 151ms\n",
            "867:\tlearn: 7.6263489\ttotal: 988ms\tremaining: 150ms\n",
            "868:\tlearn: 7.6234249\ttotal: 989ms\tremaining: 149ms\n",
            "869:\tlearn: 7.6203964\ttotal: 990ms\tremaining: 148ms\n",
            "870:\tlearn: 7.6109731\ttotal: 990ms\tremaining: 147ms\n",
            "871:\tlearn: 7.6104622\ttotal: 991ms\tremaining: 146ms\n",
            "872:\tlearn: 7.5893824\ttotal: 992ms\tremaining: 144ms\n",
            "873:\tlearn: 7.5817085\ttotal: 993ms\tremaining: 143ms\n",
            "874:\tlearn: 7.5642032\ttotal: 994ms\tremaining: 142ms\n",
            "875:\tlearn: 7.5622649\ttotal: 995ms\tremaining: 141ms\n",
            "876:\tlearn: 7.5560715\ttotal: 996ms\tremaining: 140ms\n",
            "877:\tlearn: 7.5555679\ttotal: 997ms\tremaining: 139ms\n",
            "878:\tlearn: 7.5378349\ttotal: 998ms\tremaining: 137ms\n",
            "879:\tlearn: 7.5327252\ttotal: 999ms\tremaining: 136ms\n",
            "880:\tlearn: 7.5297294\ttotal: 1000ms\tremaining: 135ms\n",
            "881:\tlearn: 7.5260214\ttotal: 1s\tremaining: 134ms\n",
            "882:\tlearn: 7.5223791\ttotal: 1s\tremaining: 133ms\n",
            "883:\tlearn: 7.5109356\ttotal: 1s\tremaining: 132ms\n",
            "884:\tlearn: 7.5082970\ttotal: 1s\tremaining: 130ms\n",
            "885:\tlearn: 7.5041507\ttotal: 1s\tremaining: 129ms\n",
            "886:\tlearn: 7.4903137\ttotal: 1s\tremaining: 128ms\n",
            "887:\tlearn: 7.4882865\ttotal: 1.01s\tremaining: 127ms\n",
            "888:\tlearn: 7.4748759\ttotal: 1.01s\tremaining: 126ms\n",
            "889:\tlearn: 7.4723681\ttotal: 1.01s\tremaining: 125ms\n",
            "890:\tlearn: 7.4575757\ttotal: 1.01s\tremaining: 124ms\n",
            "891:\tlearn: 7.4559035\ttotal: 1.01s\tremaining: 122ms\n",
            "892:\tlearn: 7.4533877\ttotal: 1.01s\tremaining: 121ms\n",
            "893:\tlearn: 7.4471224\ttotal: 1.01s\tremaining: 120ms\n",
            "894:\tlearn: 7.4413841\ttotal: 1.01s\tremaining: 119ms\n",
            "895:\tlearn: 7.4379022\ttotal: 1.01s\tremaining: 118ms\n",
            "896:\tlearn: 7.4347119\ttotal: 1.01s\tremaining: 117ms\n",
            "897:\tlearn: 7.4342927\ttotal: 1.02s\tremaining: 115ms\n",
            "898:\tlearn: 7.4121905\ttotal: 1.02s\tremaining: 114ms\n",
            "899:\tlearn: 7.3961463\ttotal: 1.02s\tremaining: 113ms\n",
            "900:\tlearn: 7.3941711\ttotal: 1.02s\tremaining: 112ms\n",
            "901:\tlearn: 7.3911893\ttotal: 1.02s\tremaining: 111ms\n",
            "902:\tlearn: 7.3841384\ttotal: 1.02s\tremaining: 110ms\n",
            "903:\tlearn: 7.3818467\ttotal: 1.03s\tremaining: 109ms\n",
            "904:\tlearn: 7.3786230\ttotal: 1.03s\tremaining: 108ms\n",
            "905:\tlearn: 7.3561286\ttotal: 1.03s\tremaining: 107ms\n",
            "906:\tlearn: 7.3499406\ttotal: 1.03s\tremaining: 106ms\n",
            "907:\tlearn: 7.3468640\ttotal: 1.03s\tremaining: 105ms\n",
            "908:\tlearn: 7.3458774\ttotal: 1.03s\tremaining: 103ms\n",
            "909:\tlearn: 7.3431054\ttotal: 1.03s\tremaining: 102ms\n",
            "910:\tlearn: 7.3425675\ttotal: 1.03s\tremaining: 101ms\n",
            "911:\tlearn: 7.3360133\ttotal: 1.03s\tremaining: 99.9ms\n",
            "912:\tlearn: 7.3247256\ttotal: 1.04s\tremaining: 98.7ms\n",
            "913:\tlearn: 7.3218802\ttotal: 1.04s\tremaining: 97.6ms\n",
            "914:\tlearn: 7.3109211\ttotal: 1.04s\tremaining: 96.4ms\n",
            "915:\tlearn: 7.3105698\ttotal: 1.04s\tremaining: 95.3ms\n",
            "916:\tlearn: 7.3101338\ttotal: 1.04s\tremaining: 94.1ms\n",
            "917:\tlearn: 7.3078194\ttotal: 1.04s\tremaining: 93ms\n",
            "918:\tlearn: 7.3073927\ttotal: 1.04s\tremaining: 91.8ms\n",
            "919:\tlearn: 7.3061633\ttotal: 1.04s\tremaining: 90.7ms\n",
            "920:\tlearn: 7.3002493\ttotal: 1.04s\tremaining: 89.5ms\n",
            "921:\tlearn: 7.2947293\ttotal: 1.04s\tremaining: 88.4ms\n",
            "922:\tlearn: 7.2903476\ttotal: 1.04s\tremaining: 87.2ms\n",
            "923:\tlearn: 7.2887182\ttotal: 1.05s\tremaining: 86.1ms\n",
            "924:\tlearn: 7.2866689\ttotal: 1.05s\tremaining: 84.9ms\n",
            "925:\tlearn: 7.2736555\ttotal: 1.05s\tremaining: 83.8ms\n",
            "926:\tlearn: 7.2679962\ttotal: 1.05s\tremaining: 82.6ms\n",
            "927:\tlearn: 7.2656648\ttotal: 1.05s\tremaining: 81.5ms\n",
            "928:\tlearn: 7.2507111\ttotal: 1.05s\tremaining: 80.4ms\n",
            "929:\tlearn: 7.2401711\ttotal: 1.05s\tremaining: 79.2ms\n",
            "930:\tlearn: 7.2239910\ttotal: 1.05s\tremaining: 78.1ms\n",
            "931:\tlearn: 7.2137269\ttotal: 1.05s\tremaining: 76.9ms\n",
            "932:\tlearn: 7.2080777\ttotal: 1.05s\tremaining: 75.8ms\n",
            "933:\tlearn: 7.1891801\ttotal: 1.06s\tremaining: 74.6ms\n",
            "934:\tlearn: 7.1687217\ttotal: 1.06s\tremaining: 73.5ms\n",
            "935:\tlearn: 7.1629262\ttotal: 1.06s\tremaining: 72.3ms\n",
            "936:\tlearn: 7.1523550\ttotal: 1.06s\tremaining: 71.2ms\n",
            "937:\tlearn: 7.1435802\ttotal: 1.06s\tremaining: 70.1ms\n",
            "938:\tlearn: 7.1353416\ttotal: 1.06s\tremaining: 68.9ms\n",
            "939:\tlearn: 7.1294406\ttotal: 1.06s\tremaining: 67.8ms\n",
            "940:\tlearn: 7.1189296\ttotal: 1.06s\tremaining: 66.6ms\n",
            "941:\tlearn: 7.1153637\ttotal: 1.06s\tremaining: 65.5ms\n",
            "942:\tlearn: 7.1023170\ttotal: 1.06s\tremaining: 64.4ms\n",
            "943:\tlearn: 7.0894598\ttotal: 1.06s\tremaining: 63.2ms\n",
            "944:\tlearn: 7.0840475\ttotal: 1.07s\tremaining: 62.1ms\n",
            "945:\tlearn: 7.0823182\ttotal: 1.07s\tremaining: 61ms\n",
            "946:\tlearn: 7.0802954\ttotal: 1.07s\tremaining: 59.9ms\n",
            "947:\tlearn: 7.0779561\ttotal: 1.07s\tremaining: 58.8ms\n",
            "948:\tlearn: 7.0753830\ttotal: 1.07s\tremaining: 57.8ms\n",
            "949:\tlearn: 7.0637661\ttotal: 1.08s\tremaining: 56.7ms\n",
            "950:\tlearn: 7.0533480\ttotal: 1.08s\tremaining: 55.6ms\n",
            "951:\tlearn: 7.0445097\ttotal: 1.08s\tremaining: 54.5ms\n",
            "952:\tlearn: 7.0199063\ttotal: 1.08s\tremaining: 53.3ms\n",
            "953:\tlearn: 7.0052733\ttotal: 1.08s\tremaining: 52.2ms\n",
            "954:\tlearn: 7.0036625\ttotal: 1.08s\tremaining: 51ms\n",
            "955:\tlearn: 6.9964201\ttotal: 1.08s\tremaining: 49.9ms\n",
            "956:\tlearn: 6.9834536\ttotal: 1.08s\tremaining: 48.8ms\n",
            "957:\tlearn: 6.9830382\ttotal: 1.09s\tremaining: 47.6ms\n",
            "958:\tlearn: 6.9639996\ttotal: 1.09s\tremaining: 46.5ms\n",
            "959:\tlearn: 6.9610369\ttotal: 1.09s\tremaining: 45.3ms\n",
            "960:\tlearn: 6.9454077\ttotal: 1.09s\tremaining: 44.2ms\n",
            "961:\tlearn: 6.9293675\ttotal: 1.09s\tremaining: 43.1ms\n",
            "962:\tlearn: 6.9233698\ttotal: 1.09s\tremaining: 41.9ms\n",
            "963:\tlearn: 6.9206564\ttotal: 1.09s\tremaining: 40.8ms\n",
            "964:\tlearn: 6.9202573\ttotal: 1.09s\tremaining: 39.6ms\n",
            "965:\tlearn: 6.9097588\ttotal: 1.09s\tremaining: 38.5ms\n",
            "966:\tlearn: 6.9093492\ttotal: 1.09s\tremaining: 37.4ms\n",
            "967:\tlearn: 6.9040187\ttotal: 1.09s\tremaining: 36.2ms\n",
            "968:\tlearn: 6.9015634\ttotal: 1.1s\tremaining: 35.1ms\n",
            "969:\tlearn: 6.8929765\ttotal: 1.1s\tremaining: 34ms\n",
            "970:\tlearn: 6.8813320\ttotal: 1.1s\tremaining: 32.9ms\n",
            "971:\tlearn: 6.8766683\ttotal: 1.1s\tremaining: 31.7ms\n",
            "972:\tlearn: 6.8734824\ttotal: 1.1s\tremaining: 30.6ms\n",
            "973:\tlearn: 6.8716743\ttotal: 1.1s\tremaining: 29.5ms\n",
            "974:\tlearn: 6.8577874\ttotal: 1.1s\tremaining: 28.3ms\n",
            "975:\tlearn: 6.8486315\ttotal: 1.11s\tremaining: 27.2ms\n",
            "976:\tlearn: 6.8238359\ttotal: 1.11s\tremaining: 26.1ms\n",
            "977:\tlearn: 6.8195391\ttotal: 1.11s\tremaining: 24.9ms\n",
            "978:\tlearn: 6.8171545\ttotal: 1.11s\tremaining: 23.8ms\n",
            "979:\tlearn: 6.8085958\ttotal: 1.11s\tremaining: 22.7ms\n",
            "980:\tlearn: 6.8039939\ttotal: 1.11s\tremaining: 21.5ms\n",
            "981:\tlearn: 6.8029900\ttotal: 1.11s\tremaining: 20.4ms\n",
            "982:\tlearn: 6.7816630\ttotal: 1.11s\tremaining: 19.3ms\n",
            "983:\tlearn: 6.7811678\ttotal: 1.12s\tremaining: 18.2ms\n",
            "984:\tlearn: 6.7808103\ttotal: 1.12s\tremaining: 17ms\n",
            "985:\tlearn: 6.7714675\ttotal: 1.12s\tremaining: 15.9ms\n",
            "986:\tlearn: 6.7597423\ttotal: 1.12s\tremaining: 14.8ms\n",
            "987:\tlearn: 6.7490495\ttotal: 1.12s\tremaining: 13.6ms\n",
            "988:\tlearn: 6.7486201\ttotal: 1.12s\tremaining: 12.5ms\n",
            "989:\tlearn: 6.7481534\ttotal: 1.12s\tremaining: 11.4ms\n",
            "990:\tlearn: 6.7448987\ttotal: 1.12s\tremaining: 10.2ms\n",
            "991:\tlearn: 6.7311132\ttotal: 1.13s\tremaining: 9.08ms\n",
            "992:\tlearn: 6.7218035\ttotal: 1.13s\tremaining: 7.94ms\n",
            "993:\tlearn: 6.7212755\ttotal: 1.13s\tremaining: 6.81ms\n",
            "994:\tlearn: 6.7210228\ttotal: 1.13s\tremaining: 5.67ms\n",
            "995:\tlearn: 6.7165515\ttotal: 1.13s\tremaining: 4.54ms\n",
            "996:\tlearn: 6.7064941\ttotal: 1.13s\tremaining: 3.4ms\n",
            "997:\tlearn: 6.6950041\ttotal: 1.13s\tremaining: 2.27ms\n",
            "998:\tlearn: 6.6938134\ttotal: 1.13s\tremaining: 1.13ms\n",
            "999:\tlearn: 6.6875645\ttotal: 1.13s\tremaining: 0us\n",
            "CPU times: user 1.83 s, sys: 165 ms, total: 1.99 s\n",
            "Wall time: 1.32 s\n"
          ]
        }
      ]
    },
    {
      "cell_type": "code",
      "source": [
        "rmse = np.sqrt(mean_squared_error(y_test, y_pred))\n",
        "print(\"The RMSE on test set: {:.4f}\".format(rmse))"
      ],
      "metadata": {
        "colab": {
          "base_uri": "https://localhost:8080/"
        },
        "id": "L6CJ5IL-FC9j",
        "outputId": "cac79e57-92f5-4c2e-94c6-86774ebad414"
      },
      "execution_count": 383,
      "outputs": [
        {
          "output_type": "stream",
          "name": "stdout",
          "text": [
            "The RMSE on test set: 109.9320\n"
          ]
        }
      ]
    },
    {
      "cell_type": "markdown",
      "source": [
        "# Tuning"
      ],
      "metadata": {
        "id": "t6uhnMGjGnhB"
      }
    },
    {
      "cell_type": "markdown",
      "source": [
        "Теперь начинается самое интересное! Выполним подбор гиперпараметров\n",
        "\n",
        "**GradientBoostingRegressor**"
      ],
      "metadata": {
        "id": "PskcG4OLFu5Q"
      }
    },
    {
      "cell_type": "code",
      "source": [
        "%%time\n",
        "parameters = {'n_estimators': [5, 10, 50, 100, 500],\n",
        "              'learning_rate': [0.0001, 0.001, 0.01, 0.1, 1.0],\n",
        "              'subsample' : [0.5, 0.7, 1.0],\n",
        "              'max_depth': [3, 5, 7, 9]}\n",
        "\n",
        "model = GradientBoostingRegressor()\n",
        "gbr = GridSearchCV(model, \n",
        "                  parameters,\n",
        "                  cv = 3,\n",
        "                  n_jobs = 5,\n",
        "                  verbose=True,\n",
        "                  scoring = 'accuracy')\n",
        "\n",
        "gbr.fit(X_train, y_train)\n",
        "pred = gbr.predict(X_test)\n",
        "\n",
        "print('Best parameters: ', gbr.best_params_)"
      ],
      "metadata": {
        "colab": {
          "base_uri": "https://localhost:8080/"
        },
        "id": "R-2KNv8nF-_c",
        "outputId": "00e76ec4-d6e3-4938-cc97-5eebe21ac619"
      },
      "execution_count": 384,
      "outputs": [
        {
          "output_type": "stream",
          "name": "stdout",
          "text": [
            "Fitting 3 folds for each of 300 candidates, totalling 900 fits\n",
            "Best parameters:  {'learning_rate': 0.0001, 'max_depth': 3, 'n_estimators': 5, 'subsample': 0.5}\n",
            "CPU times: user 3.2 s, sys: 265 ms, total: 3.46 s\n",
            "Wall time: 1min 47s\n"
          ]
        }
      ]
    },
    {
      "cell_type": "code",
      "source": [
        "%%time\n",
        "gbr = GradientBoostingRegressor(random_state=123,\n",
        "                                learning_rate=0.0001,\n",
        "                                max_depth=3,\n",
        "                                n_estimators=5,\n",
        "                                subsample=0.5)\n",
        "\n",
        "gbr = gbr.fit(X_train, y_train)\n",
        "\n",
        "y_pred = gbr.predict(X_test)"
      ],
      "metadata": {
        "colab": {
          "base_uri": "https://localhost:8080/"
        },
        "id": "LITazfZ7KH6H",
        "outputId": "2dac54a9-3977-48b7-b61a-be0e2f41b43a"
      },
      "execution_count": 385,
      "outputs": [
        {
          "output_type": "stream",
          "name": "stdout",
          "text": [
            "CPU times: user 11.6 ms, sys: 31 µs, total: 11.7 ms\n",
            "Wall time: 10.7 ms\n"
          ]
        }
      ]
    },
    {
      "cell_type": "code",
      "source": [
        "rmse = np.sqrt(mean_squared_error(y_test, y_pred))\n",
        "print(\"The RMSE on test set: {:.4f}\".format(rmse))"
      ],
      "metadata": {
        "colab": {
          "base_uri": "https://localhost:8080/"
        },
        "id": "i4wG4TlfKjmy",
        "outputId": "b3b5c236-ddd1-426b-c8c3-5940edaf1260"
      },
      "execution_count": 386,
      "outputs": [
        {
          "output_type": "stream",
          "name": "stdout",
          "text": [
            "The RMSE on test set: 108.9025\n"
          ]
        }
      ]
    },
    {
      "cell_type": "markdown",
      "source": [
        "**XGBRegressor**"
      ],
      "metadata": {
        "id": "rjoWQxQ6JOgN"
      }
    },
    {
      "cell_type": "code",
      "source": [
        "%%time\n",
        "parameters = {'n_estimators': [5, 10, 50, 100, 500],\n",
        "              'learning_rate': [0.0001, 0.001, 0.01, 0.1, 1.0],\n",
        "              'max_depth': [3, 5, 7, 9],\n",
        "              'subsample': [0.5, 0.7, 1.0]}\n",
        "\n",
        "model = XGBRegressor()\n",
        "xgb = GridSearchCV(model, \n",
        "                  parameters,\n",
        "                  cv = 3,\n",
        "                  n_jobs = 5,\n",
        "                  verbose=True,\n",
        "                  scoring = 'accuracy')\n",
        "\n",
        "xgb.fit(X_train, y_train)\n",
        "pred = xgb.predict(X_test)\n",
        "\n",
        "print('Best parameters: ', xgb.best_params_)"
      ],
      "metadata": {
        "colab": {
          "base_uri": "https://localhost:8080/"
        },
        "id": "UAHHXEYuI2_h",
        "outputId": "bb214f9a-f2af-433f-becf-e928595e4eae"
      },
      "execution_count": 387,
      "outputs": [
        {
          "output_type": "stream",
          "name": "stdout",
          "text": [
            "Fitting 3 folds for each of 300 candidates, totalling 900 fits\n",
            "Best parameters:  {'learning_rate': 0.0001, 'max_depth': 3, 'n_estimators': 5, 'subsample': 0.5}\n",
            "CPU times: user 3.18 s, sys: 124 ms, total: 3.3 s\n",
            "Wall time: 1min 28s\n"
          ]
        }
      ]
    },
    {
      "cell_type": "code",
      "source": [
        "%%time\n",
        "xgb = XGBRegressor(n_estimators=5,\n",
        "              learning_rate=0.0001,\n",
        "              max_depth=3,\n",
        "              subsample=0.5)\n",
        "\n",
        "xgb = xgb.fit(X_train, y_train)\n",
        "\n",
        "y_pred = xgb.predict(X_test)"
      ],
      "metadata": {
        "colab": {
          "base_uri": "https://localhost:8080/"
        },
        "id": "b-PJdetvQftQ",
        "outputId": "477b1119-5c7e-44bc-9de7-1520994736dd"
      },
      "execution_count": 388,
      "outputs": [
        {
          "output_type": "stream",
          "name": "stdout",
          "text": [
            "CPU times: user 22 ms, sys: 0 ns, total: 22 ms\n",
            "Wall time: 14.8 ms\n"
          ]
        }
      ]
    },
    {
      "cell_type": "code",
      "source": [
        "rmse = np.sqrt(mean_squared_error(y_test, y_pred))\n",
        "print(\"The RMSE on test set: {:.4f}\".format(rmse))"
      ],
      "metadata": {
        "colab": {
          "base_uri": "https://localhost:8080/"
        },
        "id": "tdgtFUIIPwV4",
        "outputId": "1c25f82c-49ca-47d8-b3da-58a9b58a0373"
      },
      "execution_count": 389,
      "outputs": [
        {
          "output_type": "stream",
          "name": "stdout",
          "text": [
            "The RMSE on test set: 110.2481\n"
          ]
        }
      ]
    },
    {
      "cell_type": "markdown",
      "source": [
        "**LGBMRegressor**"
      ],
      "metadata": {
        "id": "__h9uJp4JSWV"
      }
    },
    {
      "cell_type": "code",
      "source": [
        "%%time\n",
        "parameters = {'n_estimators': [5, 10, 50, 100, 500],\n",
        "              'learning_rate': [0.0001, 0.001, 0.01, 0.1, 1.0],\n",
        "              'subsample' : [0.5, 0.7, 1.0],\n",
        "              'max_depth': [3, 5, 7, 9]}\n",
        "\n",
        "model = LGBMRegressor()\n",
        "lgbm = GridSearchCV(model, \n",
        "                  parameters,\n",
        "                  cv = 3,\n",
        "                  n_jobs = 5,\n",
        "                  verbose=True,\n",
        "                  scoring = 'accuracy')\n",
        "\n",
        "lgbm.fit(X_train, y_train)\n",
        "pred = lgbm.predict(X_test)\n",
        "\n",
        "print('Best parameters: ', lgbm.best_params_)"
      ],
      "metadata": {
        "colab": {
          "base_uri": "https://localhost:8080/"
        },
        "id": "LTEO42h5I4bh",
        "outputId": "05effe69-c25f-428c-ef28-d4624466b596"
      },
      "execution_count": 390,
      "outputs": [
        {
          "output_type": "stream",
          "name": "stdout",
          "text": [
            "Fitting 3 folds for each of 300 candidates, totalling 900 fits\n",
            "Best parameters:  {'learning_rate': 0.0001, 'max_depth': 3, 'n_estimators': 5, 'subsample': 0.5}\n",
            "CPU times: user 1.63 s, sys: 62.1 ms, total: 1.69 s\n",
            "Wall time: 23.2 s\n"
          ]
        }
      ]
    },
    {
      "cell_type": "code",
      "source": [
        "%%time\n",
        "lgbm = LGBMRegressor(learning_rate=0.0001,\n",
        "                     max_depth=3,\n",
        "                     n_estimators=5,\n",
        "                     subsample=0.5)\n",
        "\n",
        "lgbm = lgbm.fit(X_train, y_train)\n",
        "\n",
        "y_pred = lgbm.predict(X_test)"
      ],
      "metadata": {
        "colab": {
          "base_uri": "https://localhost:8080/"
        },
        "id": "9RnJE4-2RJPH",
        "outputId": "d13d8796-9a32-401d-cefb-282039ece385"
      },
      "execution_count": 391,
      "outputs": [
        {
          "output_type": "stream",
          "name": "stdout",
          "text": [
            "CPU times: user 6.88 ms, sys: 0 ns, total: 6.88 ms\n",
            "Wall time: 4.93 ms\n"
          ]
        }
      ]
    },
    {
      "cell_type": "code",
      "source": [
        "rmse = np.sqrt(mean_squared_error(y_test, y_pred))\n",
        "print(\"The RMSE on test set: {:.4f}\".format(rmse))"
      ],
      "metadata": {
        "colab": {
          "base_uri": "https://localhost:8080/"
        },
        "id": "QyKb6pK5PxHX",
        "outputId": "7768888f-8a0e-4ebd-9634-678e248f8301"
      },
      "execution_count": 392,
      "outputs": [
        {
          "output_type": "stream",
          "name": "stdout",
          "text": [
            "The RMSE on test set: 108.9049\n"
          ]
        }
      ]
    },
    {
      "cell_type": "markdown",
      "source": [
        "**CatBoostRegressor**"
      ],
      "metadata": {
        "id": "4hwKuVOEJXVU"
      }
    },
    {
      "cell_type": "code",
      "source": [
        "%%time\n",
        "parameters = {'n_estimators': [5, 10, 50, 100, 500],\n",
        "              'learning_rate': [0.0001, 0.001, 0.01, 0.1, 1.0],\n",
        "              'subsample' : [0.5, 0.7, 1.0],\n",
        "              'max_depth': [3, 5, 7, 9]}\n",
        "\n",
        "model = CatBoostRegressor()\n",
        "cbr = GridSearchCV(model, \n",
        "                  parameters,\n",
        "                  cv = 3,\n",
        "                  n_jobs = 5,\n",
        "                  verbose=True,\n",
        "                  scoring = 'accuracy')\n",
        "\n",
        "cbr.fit(X_train, y_train)\n",
        "pred = cbr.predict(X_test)\n",
        "\n",
        "print('Best parameters: ', cbr.best_params_)"
      ],
      "metadata": {
        "colab": {
          "base_uri": "https://localhost:8080/"
        },
        "id": "iXNIX7XJI5OU",
        "outputId": "eefaf0ba-bdc9-455b-f2d9-7b750414066c"
      },
      "execution_count": 393,
      "outputs": [
        {
          "output_type": "stream",
          "name": "stdout",
          "text": [
            "Fitting 3 folds for each of 300 candidates, totalling 900 fits\n",
            "0:\tlearn: 45.6032287\ttotal: 689us\tremaining: 2.76ms\n",
            "1:\tlearn: 45.6026237\ttotal: 1.55ms\tremaining: 2.33ms\n",
            "2:\tlearn: 45.6023203\ttotal: 2.03ms\tremaining: 1.35ms\n",
            "3:\tlearn: 45.6019636\ttotal: 2.56ms\tremaining: 639us\n",
            "4:\tlearn: 45.6013808\ttotal: 3.05ms\tremaining: 0us\n",
            "Best parameters:  {'learning_rate': 0.0001, 'max_depth': 3, 'n_estimators': 5, 'subsample': 0.5}\n",
            "CPU times: user 3.52 s, sys: 171 ms, total: 3.7 s\n",
            "Wall time: 3min 59s\n"
          ]
        }
      ]
    },
    {
      "cell_type": "code",
      "source": [
        "%%time\n",
        "cbr = CatBoostRegressor(learning_rate=0.0001,\n",
        "                        max_depth=3,\n",
        "                        n_estimators=5,\n",
        "                        subsample=0.5)\n",
        "\n",
        "cbr = cbr.fit(X_train, y_train)\n",
        "\n",
        "y_pred = cbr.predict(X_test)"
      ],
      "metadata": {
        "colab": {
          "base_uri": "https://localhost:8080/"
        },
        "id": "5bDIS-3hRa93",
        "outputId": "f2dc38f1-2dc5-444d-8c6b-0df744581262"
      },
      "execution_count": 394,
      "outputs": [
        {
          "output_type": "stream",
          "name": "stdout",
          "text": [
            "0:\tlearn: 45.6032287\ttotal: 699us\tremaining: 2.8ms\n",
            "1:\tlearn: 45.6026237\ttotal: 1.77ms\tremaining: 2.66ms\n",
            "2:\tlearn: 45.6023203\ttotal: 2.04ms\tremaining: 1.36ms\n",
            "3:\tlearn: 45.6019636\ttotal: 2.33ms\tremaining: 581us\n",
            "4:\tlearn: 45.6013808\ttotal: 2.59ms\tremaining: 0us\n",
            "CPU times: user 13.6 ms, sys: 1.07 ms, total: 14.6 ms\n",
            "Wall time: 33.4 ms\n"
          ]
        }
      ]
    },
    {
      "cell_type": "code",
      "source": [
        "rmse = np.sqrt(mean_squared_error(y_test, y_pred))\n",
        "print(\"The RMSE on test set: {:.4f}\".format(rmse))"
      ],
      "metadata": {
        "colab": {
          "base_uri": "https://localhost:8080/"
        },
        "id": "nBW6wztePyfM",
        "outputId": "bb1c011e-039e-4368-9f59-2e236561a5c3"
      },
      "execution_count": 395,
      "outputs": [
        {
          "output_type": "stream",
          "name": "stdout",
          "text": [
            "The RMSE on test set: 108.9058\n"
          ]
        }
      ]
    }
  ]
}